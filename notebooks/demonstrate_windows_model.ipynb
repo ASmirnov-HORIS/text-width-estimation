{
 "cells": [
  {
   "cell_type": "markdown",
   "id": "e78fd17a",
   "metadata": {},
   "source": [
    "# Демонстрация модели"
   ]
  },
  {
   "cell_type": "code",
   "execution_count": 1,
   "id": "0ddc4ef2",
   "metadata": {},
   "outputs": [
    {
     "data": {
      "text/html": [
       "\n",
       "            <div id=\"9qKcnR\"></div>\n",
       "            <script type=\"text/javascript\" data-lets-plot-script=\"library\">\n",
       "                if(!window.letsPlotCallQueue) {\n",
       "                    window.letsPlotCallQueue = [];\n",
       "                }; \n",
       "                window.letsPlotCall = function(f) {\n",
       "                    window.letsPlotCallQueue.push(f);\n",
       "                };\n",
       "                (function() {\n",
       "                    var script = document.createElement(\"script\");\n",
       "                    script.type = \"text/javascript\";\n",
       "                    script.src = \"https://cdn.jsdelivr.net/gh/JetBrains/lets-plot@v2.5.0/js-package/distr/lets-plot.min.js\";\n",
       "                    script.onload = function() {\n",
       "                        window.letsPlotCall = function(f) {f();};\n",
       "                        window.letsPlotCallQueue.forEach(function(f) {f();});\n",
       "                        window.letsPlotCallQueue = [];\n",
       "                        \n",
       "                    };\n",
       "                    script.onerror = function(event) {\n",
       "                        window.letsPlotCall = function(f) {};    // noop\n",
       "                        window.letsPlotCallQueue = [];\n",
       "                        var div = document.createElement(\"div\");\n",
       "                        div.style.color = 'darkred';\n",
       "                        div.textContent = 'Error loading Lets-Plot JS';\n",
       "                        document.getElementById(\"9qKcnR\").appendChild(div);\n",
       "                    };\n",
       "                    var e = document.getElementById(\"9qKcnR\");\n",
       "                    e.appendChild(script);\n",
       "                })()\n",
       "            </script>\n",
       "            "
      ]
     },
     "metadata": {},
     "output_type": "display_data"
    }
   ],
   "source": [
    "import ipywidgets as widgets\n",
    "\n",
    "import svgwrite\n",
    "\n",
    "import os; import sys; sys.path.append(os.path.join(sys.path[0], \"..\"))\n",
    "from utils import font as ufont\n",
    "from utils import models as ums"
   ]
  },
  {
   "cell_type": "code",
   "execution_count": 2,
   "id": "4ea2a314",
   "metadata": {},
   "outputs": [],
   "source": [
    "R = 20\n",
    "TEXT_COLOR = \"#253494\"\n",
    "BG_COLOR = \"#fe9929\"\n",
    "DATA_DIR = \"../data/windows\"\n",
    "FONT = ufont.Font(\"Lucida Grande\", 14, ufont.FontFace(False, False))\n",
    "USE_EXAGG = True"
   ]
  },
  {
   "cell_type": "code",
   "execution_count": 3,
   "id": "b18513e6",
   "metadata": {},
   "outputs": [],
   "source": [
    "def draw_lines(lines, model, use_exagg=USE_EXAGG):\n",
    "    style = \"font-family:{0}; font-size:{1}pt; font-weight:{2}\".format(FONT.family, FONT.size, FONT.face)\n",
    "    n = len(lines)\n",
    "    dwg = svgwrite.Drawing(\"\", size=(800, 2 * n * FONT.size), profile=\"full\")\n",
    "    for i in range(n):\n",
    "        predicted_width = round(model.predict(lines[i], \\\n",
    "                                              family=FONT.family, \\\n",
    "                                              face=str(FONT.face), \\\n",
    "                                              size=FONT.size, \\\n",
    "                                              use_exagg=use_exagg))\n",
    "        dwg.add(dwg.rect(insert=(0, 2 * i * FONT.size), size=(predicted_width, FONT.size), stroke=BG_COLOR, stroke_width=1)\\\n",
    "                   .fill(color=BG_COLOR, opacity=.25))\n",
    "        dwg.add(dwg.text(lines[i], insert=(0, (2 * i + 1) * FONT.size), fill=TEXT_COLOR, style=style))\n",
    "    return dwg\n",
    "\n",
    "class DemoPanel:\n",
    "    def __init__(self, model):\n",
    "        self.model = model\n",
    "        self.input_widget = widgets.Text(\n",
    "            placeholder=\"Sample text\",\n",
    "            description=\"Input:\",\n",
    "            style=dict(description_width=\"initial\")\n",
    "        )\n",
    "\n",
    "    def _output(self, text):\n",
    "        return draw_lines([text], self.model)\n",
    "\n",
    "    def draw(self):\n",
    "        widgets.interact(self._output, text=self.input_widget)"
   ]
  },
  {
   "cell_type": "markdown",
   "id": "9dbe8d6f",
   "metadata": {},
   "source": [
    "## Загрузка модели"
   ]
  },
  {
   "cell_type": "code",
   "execution_count": 4,
   "id": "646cb17a",
   "metadata": {},
   "outputs": [
    {
     "data": {
      "text/plain": [
       "Clusters:\n",
       "\n",
       "mapOf(\n",
       "0 to listOf(\n",
       "' ', '¸', '·', 'ŕ', '´', '³', '²', 'ŗ', '°', 'ř', 'ª', '¨', '¦', '¹', 'ţ', '|', '{', 'ť', 'ŧ', 't', 'r', 'l', 'j', 'i', 'f', '`', ']', '}', '\\', 'º', 'і', 'ï', 'î', 'í', 'ì', 'Ĩ', 'ĩ', 'Ī', 'ī', 'Ĭ', 'ĭ', 'Į', 'į', 'ѓ', 'İ', 'ĵ', 'ĺ', 'ļ', 'ľ', 'ŀ', 'ł', 'Ï', 'Î', 'Í', 'Ì', 'ј', 'ї', 'ı', '[', '¡', ',', '.', '-', 'I', ')', '(', ''', 'Ї', 'І', '\"', '!', 'J', 'г', '/', 'ț', ':', 'ȷ', 'ſ', ';'\n",
       "),\n",
       "1 to listOf(\n",
       "'Ǐ', 'ň', 'ķ', 'ņ', 'ĸ', 'ў', 'Ĺ', 'ȋ', 'Ļ', 'ȑ', 'Ľ', 'ń', 'џ', 'ǁ', 'ǃ', 'Ŀ', 'ǐ', 'Ł', 'ș', 'ȓ', 'и', 'ĳ', 'ć', 'ғ', 'ĉ', 'ċ', 'ґ', 'č', 'Ґ', 'đ', 'ē', 'ĕ', 'ė', '҈', 'ę', 'ě', 'ĝ', 'ğ', 'ġ', 'ǰ', 'ǻ', 'ģ', 'ĥ', 'ħ', 'ǿ', 'Ȉ', 'ȉ', 'Ȋ', 'ќ', 'Ĵ', 'ћ', 'ŏ', 'ǀ', 'ц', 'а', 'х', 'ũ', 'у', 'б', 'ū', 'в', 'т', 'ŭ', 'с', 'ů', 'р', 'ű', 'д', 'е', 'п', 'ų', 'з', 'о', 'н', 'ŷ', 'л', 'к', 'ź', 'й', 'ž', 'ƒ', 'ŋ', 'З', 'Ɨ', 'ō', 'ż', 'ő', 'ѕ', 'є', 'ȴ', 'ȶ', 'ɉ', 'ƭ', 'ƫ', 'ђ', 'ƪ', 'ɍ', 'Ѓ', 'ё', 'Ј', 'ś', 'я', 'Г', 'ŝ', 'э', 'ş', 'ь', 'š', 'ƚ', 'ą', 'ч', 'Ɩ', 'ă', '҉', '9', '£', '¤', '¥', '§', '«', '¯', '±', 'µ', '¶', '¢', '»', '¿', '8', 'Ӏ', '7', '6', '5', 'ҭ', '4', '3', 'ӏ', 'z', 'y', 'x', 'ӷ', 'ӻ', 'F', '?', '^', '_', 'a', 'b', 'c', 'd', 'e', 'g', 'h', 'k', 'n', 'o', 'p', 'q', 's', 'u', 'v', '2', '1', 'L', 'ó', 'é', 'ê', '*', 'ë', 'ÿ', 'ð', 'ñ', 'þ', 'ò', 'è', 'ý', 'ҝ', 'û', 'ô', 'õ', 'ö', 'ú', '÷', '$', 'ø', 'ü', 'ç', 'ù', 'ß', 'ā', '0', 'å', 'ã', 'ä', 'қ', 'à', 'â', 'á'\n",
       "),\n",
       "2 to listOf(\n",
       "'ԭ', 'А', 'Б', 'Ё', 'В', 'ӽ', 'Ǯ', 'ǵ', 'ɀ', 'Ў', 'Ɂ', 'ӿ', 'ɏ', 'ԇ', 'ԁ', 'ԍ', 'ǹ', 'ɋ', 'Ќ', 'Є', 'Ԁ', 'ԑ', 'ǯ', 'Ɉ', 'ɇ', 'ɂ', 'Ѕ', 'Ԑ', 'ȏ', 'ȿ', 'ȩ', 'ȧ', 'ȥ', 'Ȥ', 'ȣ', 'Ȣ', 'Д', 'ȟ', 'Ȝ', 'Ț', 'Ș', 'ȗ', 'ȕ', 'ȍ', 'ȝ', 'ȫ', 'ȭ', 'ȯ', 'ԩ', 'Ⱦ', 'ȁ', 'ȃ', 'Ƚ', 'ȼ', 'ȅ', 'ȇ', 'ԓ', 'ԧ', 'ԛ', 'ԟ', 'ȳ', 'ԥ', 'ȱ', 'Ǻ', 'Ҙ', 'м', 'Ӻ', 'ң', 'ҩ', 'ҫ', 'Ҭ', 'Ү', 'ү', 'Ұ', 'ҡ', 'ұ', 'ҵ', 'ҷ', 'ҹ', 'һ', 'ѝ', 'ҽ', 'ҿ', 'ҳ', 'ҟ', 'ѣ', 'Ҟ', 'ҕ', 'Қ', 'Ғ', 'ҏ', 'ҍ', 'Ҍ', 'ҋ', 'ǭ', '҂', 'ҁ', 'ѷ', 'ѵ', 'ѳ', 'ѯ', 'Ѯ', 'ѧ', 'Ҝ', 'ӄ', 'Е', 'ӆ', 'ӊ', 'ӳ', 'ӵ', 'Я', 'Э', 'Ь', 'Ч', 'Х', 'ӱ', 'У', 'С', 'Р', 'П', 'Н', 'Ӷ', 'Л', 'К', 'Т', 'ӯ', 'ӭ', 'ӫ', 'ӌ', 'ӑ', 'ӓ', 'ӗ', 'ѐ', 'ә', 'ӛ', 'ъ', 'Ӟ', 'ӟ', 'Ӡ', 'ҙ', 'ӡ', 'ӣ', 'ӥ', 'ӧ', 'ө', 'ӈ', 'ǫ', 'ԯ', 'ǩ', 'ư', 'Ʈ', 'Þ', 'Ť', 'Ŧ', 'Ʃ', '¬', 'Ũ', 'Ý', 'À', 'Ū', 'Á', 'ƥ', 'Ŭ', 'ƨ', 'Â', 'Ţ', 'Š', 'X', 'ƹ', 'Ƹ', 'Ś', 'Y', 'Ŝ', 'Ā', 'Z', 'ƶ', 'Ƶ', 'ƴ', 'Ă', 'Ş', '~', 'Ʒ', 'Ù', 'Ů', 'Ã', 'Ž', 'Ƒ', 'ƀ', 'Ɛ', 'Ñ', 'ƍ', 'Ë', 'ƌ', 'Ƌ', 'Ƃ', 'ƃ', 'Ƅ', '×', 'ƅ', 'Ú', 'ơ', 'Ż', 'Ź', 'Ű', 'Ä', 'Ų', 'Ü', 'Å', 'Û', 'Ê', 'ƞ', 'Ŷ', 'ƛ', 'ƙ', 'È', 'Ÿ', 'É', 'Ç', 'ƻ', 'ƺ', 'Ƽ', 'ď', 'ǖ', 'Ř', 'C', 'ǘ', 'Ķ', 'ǚ', 'B', 'ǜ', 'Ē', 'ǝ', 'Ĕ', 'A', 'E', 'ǟ', 'Ė', 'Ę', 'Ě', 'ǡ', '=', '<', 'Ħ', 'Ĥ', '+', '&', 'ǥ', 'ǧ', '#', '>', 'Ń', 'ƈ', 'Ņ', 'ǂ', 'Ŕ', 'Ą', 'ƾ', 'T', 'V', 'ǔ', 'S', 'Ć', 'R', 'ƽ', 'U', 'Ċ', 'Ĉ', 'P', 'Č', 'N', 'Ŗ', 'ŉ', 'ǎ', 'K', 'ǒ', 'Ň', 'H', 'ǉ', 'ƿ'\n",
       "),\n",
       "3 to listOf(\n",
       "'Ѻ', 'Ğ', 'Ң', 'ѻ', 'җ', 'ѽ', 'ѿ', 'Ҁ', 'Ĝ', 'Ҕ', 'Ҋ', 'æ', 'Ď', 'Ҏ', 'Ҡ', 'Đ', 'Ӈ', 'Ҩ', 'Ӭ', 'Ӯ', 'Ӱ', 'Ӳ', 'Q', 'Ӵ', 'O', 'ӹ', 'M', 'Ӽ', 'Ӿ', 'G', 'D', 'ԅ', 'Ԇ', 'Ԍ', 'Ԏ', 'Ԭ', 'Ԩ', 'Ԧ', 'Ԥ', 'ԣ', 'Ԟ', 'Ӫ', 'ԝ', 'ԙ', 'ԗ', 'Ԗ', 'ԕ', 'Ԓ', 'ԏ', 'Ԛ', 'Ө', 'Ӧ', 'Ӥ', 'Ҿ', 'Ҽ', 'Һ', 'Ҹ', 'Ҷ', 'Ð', 'ӂ', 'Ҳ', 'Ó', 'Ô', 'Õ', 'Ö', 'Ҫ', 'Ø', 'Ò', 'ҥ', 'Ӄ', 'Ѷ', 'Ӣ', 'm', 'w', 'ӝ', '©', 'Ӛ', 'Ӆ', 'Ә', 'Ӗ', 'Ӓ', 'Ӑ', 'ӎ', 'Ӌ', 'Ӊ', '®', 'Ġ', 'Ѣ', 'Ģ', 'Ȩ', 'Ȫ', 'Ȭ', 'Ȯ', 'Ȱ', 'Ȳ', 'ȵ', 'Ⱥ', 'Ȼ', 'Ƴ', 'Ʋ', 'Ʊ', 'Ƀ', 'Ʉ', 'Ȧ', 'Ʌ', 'Ư', 'Ɋ', 'Ƭ', 'Ѵ', 'Ɍ', 'Ɏ', 'Ѐ', 'Ƨ', 'Ђ', 'Ʀ', 'Ƥ', 'ƣ', 'Ћ', 'Ơ', 'Ɇ', 'Ѝ', 'ǈ', 'Ƞ', 'Ǭ', 'Ǩ', 'Ǧ', 'Ǵ', 'Ǥ', 'Ƿ', 'Ǹ', 'ǽ', 'Ǿ', 'Ǡ', 'Ȁ', 'Ȃ', 'Ԯ', 'Ȅ', 'ȡ', 'Ȇ', 'Ǚ', 'Ȍ', 'Ǘ', 'Ȏ', 'Ȑ', 'Ǖ', 'Ȓ', 'Ȕ', 'Ǔ', 'Ȗ', 'Ǒ', 'Ǎ', 'ǌ', 'Ȟ', 'Ǜ', 'Ɵ', 'Ǟ', 'Ǫ', 'Ц', 'Ɗ', 'ѥ', 'Ѧ', 'Ъ', 'Ĳ', 'Ɖ', 'Џ', 'ю', 'Ѫ', 'ѡ', 'щ', 'Ƈ', 'ш', 'Ɔ', 'Ɓ', 'ж', 'ŵ', 'ѫ', 'ф', 'ы', 'Ǝ', 'Ф', 'Ő', 'Ɲ', 'Ѳ', 'Ƙ', 'Ŋ', 'њ', 'И', 'Ə', 'Ɣ', 'Й', 'љ', 'Ō', 'ѱ', 'М', 'Ѱ', 'О', 'Ŏ', 'Ɠ', 'ѩ'\n",
       "),\n",
       "4 to listOf(\n",
       "'Ѩ', 'ԋ', 'Ԋ', 'ԉ', 'Ѥ', 'Ԉ', '@', 'Æ', 'Ѭ', 'Ѹ', 'ԫ', 'Ԫ', '%', 'ѹ', 'Ǳ', 'ǲ', 'ǳ', 'Ԣ', 'ԡ', 'Ԡ', 'Ƕ', 'Ѽ', 'ѭ', 'Ԝ', 'ǣ', 'Ǣ', 'Ԙ', 'Ѿ', 'Ԕ', 'Ǽ', 'ǋ', 'Ԅ', 'Ӝ', 'Щ', 'Ш', 'Ӕ', '¼', '½', '¾', 'Ы', 'Ҵ', 'ƕ', 'Ƣ', 'Љ', 'Њ', 'Ж', 'Ɯ', 'Ӂ', 'Ӎ', 'Ѡ', 'ҧ', 'Ю', 'ԃ', 'Ԃ', 'Җ', 'Œ', 'œ', 'Ӹ', 'Ǌ', 'Ҧ', 'Ǉ', 'ǅ', 'Ǆ', 'Ŵ', 'W', 'Ҥ', 'ȸ', 'ȹ', 'ǆ', 'ӕ'\n",
       ")\n",
       ")\n",
       "\n",
       "---\n",
       "\n",
       "Cluster widths:\n",
       "\n",
       "mapOf(\n",
       "0 to 6.440506329113925,\n",
       "1 to 10.181218274111677,\n",
       "2 to 12.583512544802868,\n",
       "3 to 14.536683417085428,\n",
       "4 to 17.714285714285715\n",
       ")\n",
       "\n",
       "---\n",
       "\n",
       "Extra symbol width: 12.327791262135923\n",
       "\n",
       "---\n",
       "\n",
       "Family coefficients:\n",
       "\n",
       "mapOf(\n",
       "\"Arial\" to 0.08777509389956582,\n",
       "\"Calibri\" to -0.7568924686338481,\n",
       "\"Garamond\" to -1.2341292120659895,\n",
       "\"Geneva\" to 0.08777509389956582,\n",
       "\"Georgia\" to 0.06628876951083008,\n",
       "\"Helvetica\" to 0.08777509389956582,\n",
       "\"Lucida Grande\" to 0.08777509389956582,\n",
       "\"Rockwell\" to 0.41710660522332965,\n",
       "\"Times New Roman\" to -1.2007569745330333,\n",
       "\"Verdana\" to 1.3042084025015728\n",
       ")\n",
       "\n",
       "---\n",
       "\n",
       "Face coefficients:\n",
       "\n",
       "mapOf(\n",
       "\"bold\" to 0.6908238890181602,\n",
       "\"bold+italic\" to 0.9172120995070999,\n",
       "\"italic\" to 0.1783188620736738,\n",
       "\"normal\" to -2.1278029435615383e-17\n",
       ")\n",
       "\n",
       "---\n",
       "\n",
       "Size coefficient:\n",
       "\n",
       "0.9843304096547842\n",
       "\n",
       "---\n",
       "\n",
       "Exagg coefficient:\n",
       "\n",
       "1.1582"
      ]
     },
     "execution_count": 4,
     "metadata": {},
     "output_type": "execute_result"
    }
   ],
   "source": [
    "model = ums.FullModel.load(\"{0}/model.csv\".format(DATA_DIR), \"{0}/model.json\".format(DATA_DIR))\n",
    "model"
   ]
  },
  {
   "cell_type": "markdown",
   "id": "acb20166",
   "metadata": {},
   "source": [
    "## Примеры"
   ]
  },
  {
   "cell_type": "code",
   "execution_count": 5,
   "id": "3067f47c",
   "metadata": {},
   "outputs": [
    {
     "data": {
      "image/svg+xml": [
       "<svg baseProfile=\"full\" height=\"504\" version=\"1.1\" width=\"800\" xmlns=\"http://www.w3.org/2000/svg\" xmlns:ev=\"http://www.w3.org/2001/xml-events\" xmlns:xlink=\"http://www.w3.org/1999/xlink\"><defs /><rect fill=\"#fe9929\" fill-opacity=\"0.25\" height=\"14\" stroke=\"#fe9929\" stroke-width=\"1\" width=\"207\" x=\"0\" y=\"0\" /><text fill=\"#253494\" style=\"font-family:Lucida Grande; font-size:14pt; font-weight:normal\" x=\"0\" y=\"14\">Quas modi voluptate</text><rect fill=\"#fe9929\" fill-opacity=\"0.25\" height=\"14\" stroke=\"#fe9929\" stroke-width=\"1\" width=\"187\" x=\"0\" y=\"28\" /><text fill=\"#253494\" style=\"font-family:Lucida Grande; font-size:14pt; font-weight:normal\" x=\"0\" y=\"42\">Protéger mari vieil</text><rect fill=\"#fe9929\" fill-opacity=\"0.25\" height=\"14\" stroke=\"#fe9929\" stroke-width=\"1\" width=\"233\" x=\"0\" y=\"56\" /><text fill=\"#253494\" style=\"font-family:Lucida Grande; font-size:14pt; font-weight:normal\" x=\"0\" y=\"70\">Quatre même nombreux</text><rect fill=\"#fe9929\" fill-opacity=\"0.25\" height=\"14\" stroke=\"#fe9929\" stroke-width=\"1\" width=\"228\" x=\"0\" y=\"84\" /><text fill=\"#253494\" style=\"font-family:Lucida Grande; font-size:14pt; font-weight:normal\" x=\"0\" y=\"98\">Уронить полоска цвет</text><rect fill=\"#fe9929\" fill-opacity=\"0.25\" height=\"14\" stroke=\"#fe9929\" stroke-width=\"1\" width=\"208\" x=\"0\" y=\"112\" /><text fill=\"#253494\" style=\"font-family:Lucida Grande; font-size:14pt; font-weight:normal\" x=\"0\" y=\"126\">Feu métier satisfaire</text><rect fill=\"#fe9929\" fill-opacity=\"0.25\" height=\"14\" stroke=\"#fe9929\" stroke-width=\"1\" width=\"227\" x=\"0\" y=\"140\" /><text fill=\"#253494\" style=\"font-family:Lucida Grande; font-size:14pt; font-weight:normal\" x=\"0\" y=\"154\">Suggest page southern</text><rect fill=\"#fe9929\" fill-opacity=\"0.25\" height=\"14\" stroke=\"#fe9929\" stroke-width=\"1\" width=\"267\" x=\"0\" y=\"168\" /><text fill=\"#253494\" style=\"font-family:Lucida Grande; font-size:14pt; font-weight:normal\" x=\"0\" y=\"182\">Praesentium in ipsum eius</text><rect fill=\"#fe9929\" fill-opacity=\"0.25\" height=\"14\" stroke=\"#fe9929\" stroke-width=\"1\" width=\"290\" x=\"0\" y=\"196\" /><text fill=\"#253494\" style=\"font-family:Lucida Grande; font-size:14pt; font-weight:normal\" x=\"0\" y=\"210\">Сутки головной висеть труп</text><rect fill=\"#fe9929\" fill-opacity=\"0.25\" height=\"14\" stroke=\"#fe9929\" stroke-width=\"1\" width=\"264\" x=\"0\" y=\"224\" /><text fill=\"#253494\" style=\"font-family:Lucida Grande; font-size:14pt; font-weight:normal\" x=\"0\" y=\"238\">Préférer gens hors douleur</text><rect fill=\"#fe9929\" fill-opacity=\"0.25\" height=\"14\" stroke=\"#fe9929\" stroke-width=\"1\" width=\"274\" x=\"0\" y=\"252\" /><text fill=\"#253494\" style=\"font-family:Lucida Grande; font-size:14pt; font-weight:normal\" x=\"0\" y=\"266\">Fugiat mollitia repudiandae</text><rect fill=\"#fe9929\" fill-opacity=\"0.25\" height=\"14\" stroke=\"#fe9929\" stroke-width=\"1\" width=\"279\" x=\"0\" y=\"280\" /><text fill=\"#253494\" style=\"font-family:Lucida Grande; font-size:14pt; font-weight:normal\" x=\"0\" y=\"294\">Scientist nation opportunity</text><rect fill=\"#fe9929\" fill-opacity=\"0.25\" height=\"14\" stroke=\"#fe9929\" stroke-width=\"1\" width=\"319\" x=\"0\" y=\"308\" /><text fill=\"#253494\" style=\"font-family:Lucida Grande; font-size:14pt; font-weight:normal\" x=\"0\" y=\"322\">Ouvrage situation musique près</text><rect fill=\"#fe9929\" fill-opacity=\"0.25\" height=\"14\" stroke=\"#fe9929\" stroke-width=\"1\" width=\"373\" x=\"0\" y=\"336\" /><text fill=\"#253494\" style=\"font-family:Lucida Grande; font-size:14pt; font-weight:normal\" x=\"0\" y=\"350\">Стакан механический командующий</text><rect fill=\"#fe9929\" fill-opacity=\"0.25\" height=\"14\" stroke=\"#fe9929\" stroke-width=\"1\" width=\"319\" x=\"0\" y=\"364\" /><text fill=\"#253494\" style=\"font-family:Lucida Grande; font-size:14pt; font-weight:normal\" x=\"0\" y=\"378\">Nulla similique neque provident</text><rect fill=\"#fe9929\" fill-opacity=\"0.25\" height=\"14\" stroke=\"#fe9929\" stroke-width=\"1\" width=\"315\" x=\"0\" y=\"392\" /><text fill=\"#253494\" style=\"font-family:Lucida Grande; font-size:14pt; font-weight:normal\" x=\"0\" y=\"406\">Red information last everything</text><rect fill=\"#fe9929\" fill-opacity=\"0.25\" height=\"14\" stroke=\"#fe9929\" stroke-width=\"1\" width=\"314\" x=\"0\" y=\"420\" /><text fill=\"#253494\" style=\"font-family:Lucida Grande; font-size:14pt; font-weight:normal\" x=\"0\" y=\"434\">Peace technology officer relate</text><rect fill=\"#fe9929\" fill-opacity=\"0.25\" height=\"14\" stroke=\"#fe9929\" stroke-width=\"1\" width=\"383\" x=\"0\" y=\"448\" /><text fill=\"#253494\" style=\"font-family:Lucida Grande; font-size:14pt; font-weight:normal\" x=\"0\" y=\"462\">Наткнуться подробность демократия</text><rect fill=\"#fe9929\" fill-opacity=\"0.25\" height=\"14\" stroke=\"#fe9929\" stroke-width=\"1\" width=\"414\" x=\"0\" y=\"476\" /><text fill=\"#253494\" style=\"font-family:Lucida Grande; font-size:14pt; font-weight:normal\" x=\"0\" y=\"490\">Разуметься хлеб порядок предоставить</text></svg>"
      ],
      "text/plain": [
       "<svgwrite.drawing.Drawing at 0x1d85fff84f0>"
      ]
     },
     "execution_count": 5,
     "metadata": {},
     "output_type": "execute_result"
    }
   ],
   "source": [
    "lines = [\n",
    "    \"Quas modi voluptate\",\n",
    "    \"Protéger mari vieil\",\n",
    "    \"Quatre même nombreux\",\n",
    "    \"Уронить полоска цвет\",\n",
    "    \"Feu métier satisfaire\",\n",
    "    \"Suggest page southern\",\n",
    "    \"Praesentium in ipsum eius\",\n",
    "    \"Сутки головной висеть труп\",\n",
    "    \"Préférer gens hors douleur\",\n",
    "    \"Fugiat mollitia repudiandae\",\n",
    "    \"Scientist nation opportunity\",\n",
    "    \"Ouvrage situation musique près\",\n",
    "    \"Стакан механический командующий\",\n",
    "    \"Nulla similique neque provident\",\n",
    "    \"Red information last everything\",\n",
    "    \"Peace technology officer relate\",\n",
    "    \"Наткнуться подробность демократия\",\n",
    "    \"Разуметься хлеб порядок предоставить\",\n",
    "]\n",
    "\n",
    "draw_lines(lines, model)"
   ]
  },
  {
   "cell_type": "code",
   "execution_count": 6,
   "id": "41b1bbaa",
   "metadata": {},
   "outputs": [
    {
     "data": {
      "image/svg+xml": [
       "<svg baseProfile=\"full\" height=\"728\" version=\"1.1\" width=\"800\" xmlns=\"http://www.w3.org/2000/svg\" xmlns:ev=\"http://www.w3.org/2001/xml-events\" xmlns:xlink=\"http://www.w3.org/1999/xlink\"><defs /><rect fill=\"#fe9929\" fill-opacity=\"0.25\" height=\"14\" stroke=\"#fe9929\" stroke-width=\"1\" width=\"289\" x=\"0\" y=\"0\" /><text fill=\"#253494\" style=\"font-family:Lucida Grande; font-size:14pt; font-weight:normal\" x=\"0\" y=\"14\">AAAAAAAAAAAAAAAAAAAA</text><rect fill=\"#fe9929\" fill-opacity=\"0.25\" height=\"14\" stroke=\"#fe9929\" stroke-width=\"1\" width=\"289\" x=\"0\" y=\"28\" /><text fill=\"#253494\" style=\"font-family:Lucida Grande; font-size:14pt; font-weight:normal\" x=\"0\" y=\"42\">BBBBBBBBBBBBBBBBBBBB</text><rect fill=\"#fe9929\" fill-opacity=\"0.25\" height=\"14\" stroke=\"#fe9929\" stroke-width=\"1\" width=\"289\" x=\"0\" y=\"56\" /><text fill=\"#253494\" style=\"font-family:Lucida Grande; font-size:14pt; font-weight:normal\" x=\"0\" y=\"70\">CCCCCCCCCCCCCCCCCCCC</text><rect fill=\"#fe9929\" fill-opacity=\"0.25\" height=\"14\" stroke=\"#fe9929\" stroke-width=\"1\" width=\"333\" x=\"0\" y=\"84\" /><text fill=\"#253494\" style=\"font-family:Lucida Grande; font-size:14pt; font-weight:normal\" x=\"0\" y=\"98\">DDDDDDDDDDDDDDDDDDDD</text><rect fill=\"#fe9929\" fill-opacity=\"0.25\" height=\"14\" stroke=\"#fe9929\" stroke-width=\"1\" width=\"289\" x=\"0\" y=\"112\" /><text fill=\"#253494\" style=\"font-family:Lucida Grande; font-size:14pt; font-weight:normal\" x=\"0\" y=\"126\">EEEEEEEEEEEEEEEEEEEE</text><rect fill=\"#fe9929\" fill-opacity=\"0.25\" height=\"14\" stroke=\"#fe9929\" stroke-width=\"1\" width=\"234\" x=\"0\" y=\"140\" /><text fill=\"#253494\" style=\"font-family:Lucida Grande; font-size:14pt; font-weight:normal\" x=\"0\" y=\"154\">FFFFFFFFFFFFFFFFFFFF</text><rect fill=\"#fe9929\" fill-opacity=\"0.25\" height=\"14\" stroke=\"#fe9929\" stroke-width=\"1\" width=\"333\" x=\"0\" y=\"168\" /><text fill=\"#253494\" style=\"font-family:Lucida Grande; font-size:14pt; font-weight:normal\" x=\"0\" y=\"182\">GGGGGGGGGGGGGGGGGGGG</text><rect fill=\"#fe9929\" fill-opacity=\"0.25\" height=\"14\" stroke=\"#fe9929\" stroke-width=\"1\" width=\"289\" x=\"0\" y=\"196\" /><text fill=\"#253494\" style=\"font-family:Lucida Grande; font-size:14pt; font-weight:normal\" x=\"0\" y=\"210\">HHHHHHHHHHHHHHHHHHHH</text><rect fill=\"#fe9929\" fill-opacity=\"0.25\" height=\"14\" stroke=\"#fe9929\" stroke-width=\"1\" width=\"149\" x=\"0\" y=\"224\" /><text fill=\"#253494\" style=\"font-family:Lucida Grande; font-size:14pt; font-weight:normal\" x=\"0\" y=\"238\">IIIIIIIIIIIIIIIIIIII</text><rect fill=\"#fe9929\" fill-opacity=\"0.25\" height=\"14\" stroke=\"#fe9929\" stroke-width=\"1\" width=\"149\" x=\"0\" y=\"252\" /><text fill=\"#253494\" style=\"font-family:Lucida Grande; font-size:14pt; font-weight:normal\" x=\"0\" y=\"266\">JJJJJJJJJJJJJJJJJJJJ</text><rect fill=\"#fe9929\" fill-opacity=\"0.25\" height=\"14\" stroke=\"#fe9929\" stroke-width=\"1\" width=\"289\" x=\"0\" y=\"280\" /><text fill=\"#253494\" style=\"font-family:Lucida Grande; font-size:14pt; font-weight:normal\" x=\"0\" y=\"294\">KKKKKKKKKKKKKKKKKKKK</text><rect fill=\"#fe9929\" fill-opacity=\"0.25\" height=\"14\" stroke=\"#fe9929\" stroke-width=\"1\" width=\"234\" x=\"0\" y=\"308\" /><text fill=\"#253494\" style=\"font-family:Lucida Grande; font-size:14pt; font-weight:normal\" x=\"0\" y=\"322\">LLLLLLLLLLLLLLLLLLLL</text><rect fill=\"#fe9929\" fill-opacity=\"0.25\" height=\"14\" stroke=\"#fe9929\" stroke-width=\"1\" width=\"333\" x=\"0\" y=\"336\" /><text fill=\"#253494\" style=\"font-family:Lucida Grande; font-size:14pt; font-weight:normal\" x=\"0\" y=\"350\">MMMMMMMMMMMMMMMMMMMM</text><rect fill=\"#fe9929\" fill-opacity=\"0.25\" height=\"14\" stroke=\"#fe9929\" stroke-width=\"1\" width=\"289\" x=\"0\" y=\"364\" /><text fill=\"#253494\" style=\"font-family:Lucida Grande; font-size:14pt; font-weight:normal\" x=\"0\" y=\"378\">NNNNNNNNNNNNNNNNNNNN</text><rect fill=\"#fe9929\" fill-opacity=\"0.25\" height=\"14\" stroke=\"#fe9929\" stroke-width=\"1\" width=\"333\" x=\"0\" y=\"392\" /><text fill=\"#253494\" style=\"font-family:Lucida Grande; font-size:14pt; font-weight:normal\" x=\"0\" y=\"406\">OOOOOOOOOOOOOOOOOOOO</text><rect fill=\"#fe9929\" fill-opacity=\"0.25\" height=\"14\" stroke=\"#fe9929\" stroke-width=\"1\" width=\"289\" x=\"0\" y=\"420\" /><text fill=\"#253494\" style=\"font-family:Lucida Grande; font-size:14pt; font-weight:normal\" x=\"0\" y=\"434\">PPPPPPPPPPPPPPPPPPPP</text><rect fill=\"#fe9929\" fill-opacity=\"0.25\" height=\"14\" stroke=\"#fe9929\" stroke-width=\"1\" width=\"333\" x=\"0\" y=\"448\" /><text fill=\"#253494\" style=\"font-family:Lucida Grande; font-size:14pt; font-weight:normal\" x=\"0\" y=\"462\">QQQQQQQQQQQQQQQQQQQQ</text><rect fill=\"#fe9929\" fill-opacity=\"0.25\" height=\"14\" stroke=\"#fe9929\" stroke-width=\"1\" width=\"289\" x=\"0\" y=\"476\" /><text fill=\"#253494\" style=\"font-family:Lucida Grande; font-size:14pt; font-weight:normal\" x=\"0\" y=\"490\">RRRRRRRRRRRRRRRRRRRR</text><rect fill=\"#fe9929\" fill-opacity=\"0.25\" height=\"14\" stroke=\"#fe9929\" stroke-width=\"1\" width=\"289\" x=\"0\" y=\"504\" /><text fill=\"#253494\" style=\"font-family:Lucida Grande; font-size:14pt; font-weight:normal\" x=\"0\" y=\"518\">SSSSSSSSSSSSSSSSSSSS</text><rect fill=\"#fe9929\" fill-opacity=\"0.25\" height=\"14\" stroke=\"#fe9929\" stroke-width=\"1\" width=\"289\" x=\"0\" y=\"532\" /><text fill=\"#253494\" style=\"font-family:Lucida Grande; font-size:14pt; font-weight:normal\" x=\"0\" y=\"546\">TTTTTTTTTTTTTTTTTTTT</text><rect fill=\"#fe9929\" fill-opacity=\"0.25\" height=\"14\" stroke=\"#fe9929\" stroke-width=\"1\" width=\"289\" x=\"0\" y=\"560\" /><text fill=\"#253494\" style=\"font-family:Lucida Grande; font-size:14pt; font-weight:normal\" x=\"0\" y=\"574\">UUUUUUUUUUUUUUUUUUUU</text><rect fill=\"#fe9929\" fill-opacity=\"0.25\" height=\"14\" stroke=\"#fe9929\" stroke-width=\"1\" width=\"289\" x=\"0\" y=\"588\" /><text fill=\"#253494\" style=\"font-family:Lucida Grande; font-size:14pt; font-weight:normal\" x=\"0\" y=\"602\">VVVVVVVVVVVVVVVVVVVV</text><rect fill=\"#fe9929\" fill-opacity=\"0.25\" height=\"14\" stroke=\"#fe9929\" stroke-width=\"1\" width=\"406\" x=\"0\" y=\"616\" /><text fill=\"#253494\" style=\"font-family:Lucida Grande; font-size:14pt; font-weight:normal\" x=\"0\" y=\"630\">WWWWWWWWWWWWWWWWWWWW</text><rect fill=\"#fe9929\" fill-opacity=\"0.25\" height=\"14\" stroke=\"#fe9929\" stroke-width=\"1\" width=\"289\" x=\"0\" y=\"644\" /><text fill=\"#253494\" style=\"font-family:Lucida Grande; font-size:14pt; font-weight:normal\" x=\"0\" y=\"658\">XXXXXXXXXXXXXXXXXXXX</text><rect fill=\"#fe9929\" fill-opacity=\"0.25\" height=\"14\" stroke=\"#fe9929\" stroke-width=\"1\" width=\"289\" x=\"0\" y=\"672\" /><text fill=\"#253494\" style=\"font-family:Lucida Grande; font-size:14pt; font-weight:normal\" x=\"0\" y=\"686\">YYYYYYYYYYYYYYYYYYYY</text><rect fill=\"#fe9929\" fill-opacity=\"0.25\" height=\"14\" stroke=\"#fe9929\" stroke-width=\"1\" width=\"289\" x=\"0\" y=\"700\" /><text fill=\"#253494\" style=\"font-family:Lucida Grande; font-size:14pt; font-weight:normal\" x=\"0\" y=\"714\">ZZZZZZZZZZZZZZZZZZZZ</text></svg>"
      ],
      "text/plain": [
       "<svgwrite.drawing.Drawing at 0x1d8600a5400>"
      ]
     },
     "execution_count": 6,
     "metadata": {},
     "output_type": "execute_result"
    }
   ],
   "source": [
    "lines = [\n",
    "    \"A\" * R,\n",
    "    \"B\" * R,\n",
    "    \"C\" * R,\n",
    "    \"D\" * R,\n",
    "    \"E\" * R,\n",
    "    \"F\" * R,\n",
    "    \"G\" * R,\n",
    "    \"H\" * R,\n",
    "    \"I\" * R,\n",
    "    \"J\" * R,\n",
    "    \"K\" * R,\n",
    "    \"L\" * R,\n",
    "    \"M\" * R,\n",
    "    \"N\" * R,\n",
    "    \"O\" * R,\n",
    "    \"P\" * R,\n",
    "    \"Q\" * R,\n",
    "    \"R\" * R,\n",
    "    \"S\" * R,\n",
    "    \"T\" * R,\n",
    "    \"U\" * R,\n",
    "    \"V\" * R,\n",
    "    \"W\" * R,\n",
    "    \"X\" * R,\n",
    "    \"Y\" * R,\n",
    "    \"Z\" * R,\n",
    "]\n",
    "\n",
    "draw_lines(lines, model)"
   ]
  },
  {
   "cell_type": "code",
   "execution_count": 7,
   "id": "4b1b3348",
   "metadata": {},
   "outputs": [
    {
     "data": {
      "image/svg+xml": [
       "<svg baseProfile=\"full\" height=\"728\" version=\"1.1\" width=\"800\" xmlns=\"http://www.w3.org/2000/svg\" xmlns:ev=\"http://www.w3.org/2001/xml-events\" xmlns:xlink=\"http://www.w3.org/1999/xlink\"><defs /><rect fill=\"#fe9929\" fill-opacity=\"0.25\" height=\"14\" stroke=\"#fe9929\" stroke-width=\"1\" width=\"234\" x=\"0\" y=\"0\" /><text fill=\"#253494\" style=\"font-family:Lucida Grande; font-size:14pt; font-weight:normal\" x=\"0\" y=\"14\">aaaaaaaaaaaaaaaaaaaa</text><rect fill=\"#fe9929\" fill-opacity=\"0.25\" height=\"14\" stroke=\"#fe9929\" stroke-width=\"1\" width=\"234\" x=\"0\" y=\"28\" /><text fill=\"#253494\" style=\"font-family:Lucida Grande; font-size:14pt; font-weight:normal\" x=\"0\" y=\"42\">bbbbbbbbbbbbbbbbbbbb</text><rect fill=\"#fe9929\" fill-opacity=\"0.25\" height=\"14\" stroke=\"#fe9929\" stroke-width=\"1\" width=\"234\" x=\"0\" y=\"56\" /><text fill=\"#253494\" style=\"font-family:Lucida Grande; font-size:14pt; font-weight:normal\" x=\"0\" y=\"70\">cccccccccccccccccccc</text><rect fill=\"#fe9929\" fill-opacity=\"0.25\" height=\"14\" stroke=\"#fe9929\" stroke-width=\"1\" width=\"234\" x=\"0\" y=\"84\" /><text fill=\"#253494\" style=\"font-family:Lucida Grande; font-size:14pt; font-weight:normal\" x=\"0\" y=\"98\">dddddddddddddddddddd</text><rect fill=\"#fe9929\" fill-opacity=\"0.25\" height=\"14\" stroke=\"#fe9929\" stroke-width=\"1\" width=\"234\" x=\"0\" y=\"112\" /><text fill=\"#253494\" style=\"font-family:Lucida Grande; font-size:14pt; font-weight:normal\" x=\"0\" y=\"126\">eeeeeeeeeeeeeeeeeeee</text><rect fill=\"#fe9929\" fill-opacity=\"0.25\" height=\"14\" stroke=\"#fe9929\" stroke-width=\"1\" width=\"149\" x=\"0\" y=\"140\" /><text fill=\"#253494\" style=\"font-family:Lucida Grande; font-size:14pt; font-weight:normal\" x=\"0\" y=\"154\">ffffffffffffffffffff</text><rect fill=\"#fe9929\" fill-opacity=\"0.25\" height=\"14\" stroke=\"#fe9929\" stroke-width=\"1\" width=\"234\" x=\"0\" y=\"168\" /><text fill=\"#253494\" style=\"font-family:Lucida Grande; font-size:14pt; font-weight:normal\" x=\"0\" y=\"182\">gggggggggggggggggggg</text><rect fill=\"#fe9929\" fill-opacity=\"0.25\" height=\"14\" stroke=\"#fe9929\" stroke-width=\"1\" width=\"234\" x=\"0\" y=\"196\" /><text fill=\"#253494\" style=\"font-family:Lucida Grande; font-size:14pt; font-weight:normal\" x=\"0\" y=\"210\">hhhhhhhhhhhhhhhhhhhh</text><rect fill=\"#fe9929\" fill-opacity=\"0.25\" height=\"14\" stroke=\"#fe9929\" stroke-width=\"1\" width=\"149\" x=\"0\" y=\"224\" /><text fill=\"#253494\" style=\"font-family:Lucida Grande; font-size:14pt; font-weight:normal\" x=\"0\" y=\"238\">iiiiiiiiiiiiiiiiiiii</text><rect fill=\"#fe9929\" fill-opacity=\"0.25\" height=\"14\" stroke=\"#fe9929\" stroke-width=\"1\" width=\"149\" x=\"0\" y=\"252\" /><text fill=\"#253494\" style=\"font-family:Lucida Grande; font-size:14pt; font-weight:normal\" x=\"0\" y=\"266\">jjjjjjjjjjjjjjjjjjjj</text><rect fill=\"#fe9929\" fill-opacity=\"0.25\" height=\"14\" stroke=\"#fe9929\" stroke-width=\"1\" width=\"234\" x=\"0\" y=\"280\" /><text fill=\"#253494\" style=\"font-family:Lucida Grande; font-size:14pt; font-weight:normal\" x=\"0\" y=\"294\">kkkkkkkkkkkkkkkkkkkk</text><rect fill=\"#fe9929\" fill-opacity=\"0.25\" height=\"14\" stroke=\"#fe9929\" stroke-width=\"1\" width=\"149\" x=\"0\" y=\"308\" /><text fill=\"#253494\" style=\"font-family:Lucida Grande; font-size:14pt; font-weight:normal\" x=\"0\" y=\"322\">llllllllllllllllllll</text><rect fill=\"#fe9929\" fill-opacity=\"0.25\" height=\"14\" stroke=\"#fe9929\" stroke-width=\"1\" width=\"333\" x=\"0\" y=\"336\" /><text fill=\"#253494\" style=\"font-family:Lucida Grande; font-size:14pt; font-weight:normal\" x=\"0\" y=\"350\">mmmmmmmmmmmmmmmmmmmm</text><rect fill=\"#fe9929\" fill-opacity=\"0.25\" height=\"14\" stroke=\"#fe9929\" stroke-width=\"1\" width=\"234\" x=\"0\" y=\"364\" /><text fill=\"#253494\" style=\"font-family:Lucida Grande; font-size:14pt; font-weight:normal\" x=\"0\" y=\"378\">nnnnnnnnnnnnnnnnnnnn</text><rect fill=\"#fe9929\" fill-opacity=\"0.25\" height=\"14\" stroke=\"#fe9929\" stroke-width=\"1\" width=\"234\" x=\"0\" y=\"392\" /><text fill=\"#253494\" style=\"font-family:Lucida Grande; font-size:14pt; font-weight:normal\" x=\"0\" y=\"406\">oooooooooooooooooooo</text><rect fill=\"#fe9929\" fill-opacity=\"0.25\" height=\"14\" stroke=\"#fe9929\" stroke-width=\"1\" width=\"234\" x=\"0\" y=\"420\" /><text fill=\"#253494\" style=\"font-family:Lucida Grande; font-size:14pt; font-weight:normal\" x=\"0\" y=\"434\">pppppppppppppppppppp</text><rect fill=\"#fe9929\" fill-opacity=\"0.25\" height=\"14\" stroke=\"#fe9929\" stroke-width=\"1\" width=\"234\" x=\"0\" y=\"448\" /><text fill=\"#253494\" style=\"font-family:Lucida Grande; font-size:14pt; font-weight:normal\" x=\"0\" y=\"462\">qqqqqqqqqqqqqqqqqqqq</text><rect fill=\"#fe9929\" fill-opacity=\"0.25\" height=\"14\" stroke=\"#fe9929\" stroke-width=\"1\" width=\"149\" x=\"0\" y=\"476\" /><text fill=\"#253494\" style=\"font-family:Lucida Grande; font-size:14pt; font-weight:normal\" x=\"0\" y=\"490\">rrrrrrrrrrrrrrrrrrrr</text><rect fill=\"#fe9929\" fill-opacity=\"0.25\" height=\"14\" stroke=\"#fe9929\" stroke-width=\"1\" width=\"234\" x=\"0\" y=\"504\" /><text fill=\"#253494\" style=\"font-family:Lucida Grande; font-size:14pt; font-weight:normal\" x=\"0\" y=\"518\">ssssssssssssssssssss</text><rect fill=\"#fe9929\" fill-opacity=\"0.25\" height=\"14\" stroke=\"#fe9929\" stroke-width=\"1\" width=\"149\" x=\"0\" y=\"532\" /><text fill=\"#253494\" style=\"font-family:Lucida Grande; font-size:14pt; font-weight:normal\" x=\"0\" y=\"546\">tttttttttttttttttttt</text><rect fill=\"#fe9929\" fill-opacity=\"0.25\" height=\"14\" stroke=\"#fe9929\" stroke-width=\"1\" width=\"234\" x=\"0\" y=\"560\" /><text fill=\"#253494\" style=\"font-family:Lucida Grande; font-size:14pt; font-weight:normal\" x=\"0\" y=\"574\">uuuuuuuuuuuuuuuuuuuu</text><rect fill=\"#fe9929\" fill-opacity=\"0.25\" height=\"14\" stroke=\"#fe9929\" stroke-width=\"1\" width=\"234\" x=\"0\" y=\"588\" /><text fill=\"#253494\" style=\"font-family:Lucida Grande; font-size:14pt; font-weight:normal\" x=\"0\" y=\"602\">vvvvvvvvvvvvvvvvvvvv</text><rect fill=\"#fe9929\" fill-opacity=\"0.25\" height=\"14\" stroke=\"#fe9929\" stroke-width=\"1\" width=\"333\" x=\"0\" y=\"616\" /><text fill=\"#253494\" style=\"font-family:Lucida Grande; font-size:14pt; font-weight:normal\" x=\"0\" y=\"630\">wwwwwwwwwwwwwwwwwwww</text><rect fill=\"#fe9929\" fill-opacity=\"0.25\" height=\"14\" stroke=\"#fe9929\" stroke-width=\"1\" width=\"234\" x=\"0\" y=\"644\" /><text fill=\"#253494\" style=\"font-family:Lucida Grande; font-size:14pt; font-weight:normal\" x=\"0\" y=\"658\">xxxxxxxxxxxxxxxxxxxx</text><rect fill=\"#fe9929\" fill-opacity=\"0.25\" height=\"14\" stroke=\"#fe9929\" stroke-width=\"1\" width=\"234\" x=\"0\" y=\"672\" /><text fill=\"#253494\" style=\"font-family:Lucida Grande; font-size:14pt; font-weight:normal\" x=\"0\" y=\"686\">yyyyyyyyyyyyyyyyyyyy</text><rect fill=\"#fe9929\" fill-opacity=\"0.25\" height=\"14\" stroke=\"#fe9929\" stroke-width=\"1\" width=\"234\" x=\"0\" y=\"700\" /><text fill=\"#253494\" style=\"font-family:Lucida Grande; font-size:14pt; font-weight:normal\" x=\"0\" y=\"714\">zzzzzzzzzzzzzzzzzzzz</text></svg>"
      ],
      "text/plain": [
       "<svgwrite.drawing.Drawing at 0x1d8600af610>"
      ]
     },
     "execution_count": 7,
     "metadata": {},
     "output_type": "execute_result"
    }
   ],
   "source": [
    "lines = [\n",
    "    \"a\" * R,\n",
    "    \"b\" * R,\n",
    "    \"c\" * R,\n",
    "    \"d\" * R,\n",
    "    \"e\" * R,\n",
    "    \"f\" * R,\n",
    "    \"g\" * R,\n",
    "    \"h\" * R,\n",
    "    \"i\" * R,\n",
    "    \"j\" * R,\n",
    "    \"k\" * R,\n",
    "    \"l\" * R,\n",
    "    \"m\" * R,\n",
    "    \"n\" * R,\n",
    "    \"o\" * R,\n",
    "    \"p\" * R,\n",
    "    \"q\" * R,\n",
    "    \"r\" * R,\n",
    "    \"s\" * R,\n",
    "    \"t\" * R,\n",
    "    \"u\" * R,\n",
    "    \"v\" * R,\n",
    "    \"w\" * R,\n",
    "    \"x\" * R,\n",
    "    \"y\" * R,\n",
    "    \"z\" * R,\n",
    "]\n",
    "\n",
    "draw_lines(lines, model)"
   ]
  },
  {
   "cell_type": "code",
   "execution_count": 8,
   "id": "b712ea7c",
   "metadata": {},
   "outputs": [
    {
     "data": {
      "image/svg+xml": [
       "<svg baseProfile=\"full\" height=\"280\" version=\"1.1\" width=\"800\" xmlns=\"http://www.w3.org/2000/svg\" xmlns:ev=\"http://www.w3.org/2001/xml-events\" xmlns:xlink=\"http://www.w3.org/1999/xlink\"><defs /><rect fill=\"#fe9929\" fill-opacity=\"0.25\" height=\"14\" stroke=\"#fe9929\" stroke-width=\"1\" width=\"234\" x=\"0\" y=\"0\" /><text fill=\"#253494\" style=\"font-family:Lucida Grande; font-size:14pt; font-weight:normal\" x=\"0\" y=\"14\">00000000000000000000</text><rect fill=\"#fe9929\" fill-opacity=\"0.25\" height=\"14\" stroke=\"#fe9929\" stroke-width=\"1\" width=\"234\" x=\"0\" y=\"28\" /><text fill=\"#253494\" style=\"font-family:Lucida Grande; font-size:14pt; font-weight:normal\" x=\"0\" y=\"42\">11111111111111111111</text><rect fill=\"#fe9929\" fill-opacity=\"0.25\" height=\"14\" stroke=\"#fe9929\" stroke-width=\"1\" width=\"234\" x=\"0\" y=\"56\" /><text fill=\"#253494\" style=\"font-family:Lucida Grande; font-size:14pt; font-weight:normal\" x=\"0\" y=\"70\">22222222222222222222</text><rect fill=\"#fe9929\" fill-opacity=\"0.25\" height=\"14\" stroke=\"#fe9929\" stroke-width=\"1\" width=\"234\" x=\"0\" y=\"84\" /><text fill=\"#253494\" style=\"font-family:Lucida Grande; font-size:14pt; font-weight:normal\" x=\"0\" y=\"98\">33333333333333333333</text><rect fill=\"#fe9929\" fill-opacity=\"0.25\" height=\"14\" stroke=\"#fe9929\" stroke-width=\"1\" width=\"234\" x=\"0\" y=\"112\" /><text fill=\"#253494\" style=\"font-family:Lucida Grande; font-size:14pt; font-weight:normal\" x=\"0\" y=\"126\">44444444444444444444</text><rect fill=\"#fe9929\" fill-opacity=\"0.25\" height=\"14\" stroke=\"#fe9929\" stroke-width=\"1\" width=\"234\" x=\"0\" y=\"140\" /><text fill=\"#253494\" style=\"font-family:Lucida Grande; font-size:14pt; font-weight:normal\" x=\"0\" y=\"154\">55555555555555555555</text><rect fill=\"#fe9929\" fill-opacity=\"0.25\" height=\"14\" stroke=\"#fe9929\" stroke-width=\"1\" width=\"234\" x=\"0\" y=\"168\" /><text fill=\"#253494\" style=\"font-family:Lucida Grande; font-size:14pt; font-weight:normal\" x=\"0\" y=\"182\">66666666666666666666</text><rect fill=\"#fe9929\" fill-opacity=\"0.25\" height=\"14\" stroke=\"#fe9929\" stroke-width=\"1\" width=\"234\" x=\"0\" y=\"196\" /><text fill=\"#253494\" style=\"font-family:Lucida Grande; font-size:14pt; font-weight:normal\" x=\"0\" y=\"210\">77777777777777777777</text><rect fill=\"#fe9929\" fill-opacity=\"0.25\" height=\"14\" stroke=\"#fe9929\" stroke-width=\"1\" width=\"234\" x=\"0\" y=\"224\" /><text fill=\"#253494\" style=\"font-family:Lucida Grande; font-size:14pt; font-weight:normal\" x=\"0\" y=\"238\">88888888888888888888</text><rect fill=\"#fe9929\" fill-opacity=\"0.25\" height=\"14\" stroke=\"#fe9929\" stroke-width=\"1\" width=\"234\" x=\"0\" y=\"252\" /><text fill=\"#253494\" style=\"font-family:Lucida Grande; font-size:14pt; font-weight:normal\" x=\"0\" y=\"266\">99999999999999999999</text></svg>"
      ],
      "text/plain": [
       "<svgwrite.drawing.Drawing at 0x1d8600a5070>"
      ]
     },
     "execution_count": 8,
     "metadata": {},
     "output_type": "execute_result"
    }
   ],
   "source": [
    "lines = [\n",
    "    \"0\" * R,\n",
    "    \"1\" * R,\n",
    "    \"2\" * R,\n",
    "    \"3\" * R,\n",
    "    \"4\" * R,\n",
    "    \"5\" * R,\n",
    "    \"6\" * R,\n",
    "    \"7\" * R,\n",
    "    \"8\" * R,\n",
    "    \"9\" * R,\n",
    "]\n",
    "\n",
    "draw_lines(lines, model)"
   ]
  },
  {
   "cell_type": "code",
   "execution_count": 9,
   "id": "53fda422",
   "metadata": {},
   "outputs": [
    {
     "data": {
      "image/svg+xml": [
       "<svg baseProfile=\"full\" height=\"504\" version=\"1.1\" width=\"800\" xmlns=\"http://www.w3.org/2000/svg\" xmlns:ev=\"http://www.w3.org/2001/xml-events\" xmlns:xlink=\"http://www.w3.org/1999/xlink\"><defs /><rect fill=\"#fe9929\" fill-opacity=\"0.25\" height=\"14\" stroke=\"#fe9929\" stroke-width=\"1\" width=\"149\" x=\"0\" y=\"0\" /><text fill=\"#253494\" style=\"font-family:Lucida Grande; font-size:14pt; font-weight:normal\" x=\"0\" y=\"14\">....................</text><rect fill=\"#fe9929\" fill-opacity=\"0.25\" height=\"14\" stroke=\"#fe9929\" stroke-width=\"1\" width=\"149\" x=\"0\" y=\"28\" /><text fill=\"#253494\" style=\"font-family:Lucida Grande; font-size:14pt; font-weight:normal\" x=\"0\" y=\"42\">,,,,,,,,,,,,,,,,,,,,</text><rect fill=\"#fe9929\" fill-opacity=\"0.25\" height=\"14\" stroke=\"#fe9929\" stroke-width=\"1\" width=\"234\" x=\"0\" y=\"56\" /><text fill=\"#253494\" style=\"font-family:Lucida Grande; font-size:14pt; font-weight:normal\" x=\"0\" y=\"70\">????????????????????</text><rect fill=\"#fe9929\" fill-opacity=\"0.25\" height=\"14\" stroke=\"#fe9929\" stroke-width=\"1\" width=\"149\" x=\"0\" y=\"84\" /><text fill=\"#253494\" style=\"font-family:Lucida Grande; font-size:14pt; font-weight:normal\" x=\"0\" y=\"98\">::::::::::::::::::::</text><rect fill=\"#fe9929\" fill-opacity=\"0.25\" height=\"14\" stroke=\"#fe9929\" stroke-width=\"1\" width=\"149\" x=\"0\" y=\"112\" /><text fill=\"#253494\" style=\"font-family:Lucida Grande; font-size:14pt; font-weight:normal\" x=\"0\" y=\"126\">;;;;;;;;;;;;;;;;;;;;</text><rect fill=\"#fe9929\" fill-opacity=\"0.25\" height=\"14\" stroke=\"#fe9929\" stroke-width=\"1\" width=\"149\" x=\"0\" y=\"140\" /><text fill=\"#253494\" style=\"font-family:Lucida Grande; font-size:14pt; font-weight:normal\" x=\"0\" y=\"154\">````````````````````</text><rect fill=\"#fe9929\" fill-opacity=\"0.25\" height=\"14\" stroke=\"#fe9929\" stroke-width=\"1\" width=\"149\" x=\"0\" y=\"168\" /><text fill=\"#253494\" style=\"font-family:Lucida Grande; font-size:14pt; font-weight:normal\" x=\"0\" y=\"182\">''''''''''''''''''''</text><rect fill=\"#fe9929\" fill-opacity=\"0.25\" height=\"14\" stroke=\"#fe9929\" stroke-width=\"1\" width=\"149\" x=\"0\" y=\"196\" /><text fill=\"#253494\" style=\"font-family:Lucida Grande; font-size:14pt; font-weight:normal\" x=\"0\" y=\"210\">\"\"\"\"\"\"\"\"\"\"\"\"\"\"\"\"\"\"\"\"</text><rect fill=\"#fe9929\" fill-opacity=\"0.25\" height=\"14\" stroke=\"#fe9929\" stroke-width=\"1\" width=\"149\" x=\"0\" y=\"224\" /><text fill=\"#253494\" style=\"font-family:Lucida Grande; font-size:14pt; font-weight:normal\" x=\"0\" y=\"238\">////////////////////</text><rect fill=\"#fe9929\" fill-opacity=\"0.25\" height=\"14\" stroke=\"#fe9929\" stroke-width=\"1\" width=\"149\" x=\"0\" y=\"252\" /><text fill=\"#253494\" style=\"font-family:Lucida Grande; font-size:14pt; font-weight:normal\" x=\"0\" y=\"266\">\\\\\\\\\\\\\\\\\\\\\\\\\\\\\\\\\\\\\\\\</text><rect fill=\"#fe9929\" fill-opacity=\"0.25\" height=\"14\" stroke=\"#fe9929\" stroke-width=\"1\" width=\"149\" x=\"0\" y=\"280\" /><text fill=\"#253494\" style=\"font-family:Lucida Grande; font-size:14pt; font-weight:normal\" x=\"0\" y=\"294\">||||||||||||||||||||</text><rect fill=\"#fe9929\" fill-opacity=\"0.25\" height=\"14\" stroke=\"#fe9929\" stroke-width=\"1\" width=\"289\" x=\"0\" y=\"308\" /><text fill=\"#253494\" style=\"font-family:Lucida Grande; font-size:14pt; font-weight:normal\" x=\"0\" y=\"322\">&lt;&lt;&lt;&lt;&lt;&lt;&lt;&lt;&lt;&lt;&lt;&lt;&lt;&lt;&lt;&lt;&lt;&lt;&lt;&lt;</text><rect fill=\"#fe9929\" fill-opacity=\"0.25\" height=\"14\" stroke=\"#fe9929\" stroke-width=\"1\" width=\"289\" x=\"0\" y=\"336\" /><text fill=\"#253494\" style=\"font-family:Lucida Grande; font-size:14pt; font-weight:normal\" x=\"0\" y=\"350\">&gt;&gt;&gt;&gt;&gt;&gt;&gt;&gt;&gt;&gt;&gt;&gt;&gt;&gt;&gt;&gt;&gt;&gt;&gt;&gt;</text><rect fill=\"#fe9929\" fill-opacity=\"0.25\" height=\"14\" stroke=\"#fe9929\" stroke-width=\"1\" width=\"149\" x=\"0\" y=\"364\" /><text fill=\"#253494\" style=\"font-family:Lucida Grande; font-size:14pt; font-weight:normal\" x=\"0\" y=\"378\">]]]]]]]]]]]]]]]]]]]]</text><rect fill=\"#fe9929\" fill-opacity=\"0.25\" height=\"14\" stroke=\"#fe9929\" stroke-width=\"1\" width=\"149\" x=\"0\" y=\"392\" /><text fill=\"#253494\" style=\"font-family:Lucida Grande; font-size:14pt; font-weight:normal\" x=\"0\" y=\"406\">[[[[[[[[[[[[[[[[[[[[</text><rect fill=\"#fe9929\" fill-opacity=\"0.25\" height=\"14\" stroke=\"#fe9929\" stroke-width=\"1\" width=\"149\" x=\"0\" y=\"420\" /><text fill=\"#253494\" style=\"font-family:Lucida Grande; font-size:14pt; font-weight:normal\" x=\"0\" y=\"434\">{{{{{{{{{{{{{{{{{{{{</text><rect fill=\"#fe9929\" fill-opacity=\"0.25\" height=\"14\" stroke=\"#fe9929\" stroke-width=\"1\" width=\"149\" x=\"0\" y=\"448\" /><text fill=\"#253494\" style=\"font-family:Lucida Grande; font-size:14pt; font-weight:normal\" x=\"0\" y=\"462\">}}}}}}}}}}}}}}}}}}}}</text><rect fill=\"#fe9929\" fill-opacity=\"0.25\" height=\"14\" stroke=\"#fe9929\" stroke-width=\"1\" width=\"289\" x=\"0\" y=\"476\" /><text fill=\"#253494\" style=\"font-family:Lucida Grande; font-size:14pt; font-weight:normal\" x=\"0\" y=\"490\">~~~~~~~~~~~~~~~~~~~~</text></svg>"
      ],
      "text/plain": [
       "<svgwrite.drawing.Drawing at 0x1d85fff8100>"
      ]
     },
     "execution_count": 9,
     "metadata": {},
     "output_type": "execute_result"
    }
   ],
   "source": [
    "lines = [\n",
    "    \".\" * R,\n",
    "    \",\" * R,\n",
    "    \"?\" * R,\n",
    "    \":\" * R,\n",
    "    \";\" * R,\n",
    "    \"`\" * R,\n",
    "    \"'\" * R,\n",
    "    \"\\\"\" * R,\n",
    "    \"/\" * R,\n",
    "    \"\\\\\" * R,\n",
    "    \"|\" * R,\n",
    "    \"<\" * R,\n",
    "    \">\" * R,\n",
    "    \"]\" * R,\n",
    "    \"[\" * R,\n",
    "    \"{\" * R,\n",
    "    \"}\" * R,\n",
    "    \"~\" * R,\n",
    "]\n",
    "\n",
    "draw_lines(lines, model)"
   ]
  },
  {
   "cell_type": "code",
   "execution_count": 10,
   "id": "8d4f6ea4",
   "metadata": {},
   "outputs": [
    {
     "data": {
      "image/svg+xml": [
       "<svg baseProfile=\"full\" height=\"392\" version=\"1.1\" width=\"800\" xmlns=\"http://www.w3.org/2000/svg\" xmlns:ev=\"http://www.w3.org/2001/xml-events\" xmlns:xlink=\"http://www.w3.org/1999/xlink\"><defs /><rect fill=\"#fe9929\" fill-opacity=\"0.25\" height=\"14\" stroke=\"#fe9929\" stroke-width=\"1\" width=\"149\" x=\"0\" y=\"0\" /><text fill=\"#253494\" style=\"font-family:Lucida Grande; font-size:14pt; font-weight:normal\" x=\"0\" y=\"14\">!!!!!!!!!!!!!!!!!!!!</text><rect fill=\"#fe9929\" fill-opacity=\"0.25\" height=\"14\" stroke=\"#fe9929\" stroke-width=\"1\" width=\"406\" x=\"0\" y=\"28\" /><text fill=\"#253494\" style=\"font-family:Lucida Grande; font-size:14pt; font-weight:normal\" x=\"0\" y=\"42\">@@@@@@@@@@@@@@@@@@@@</text><rect fill=\"#fe9929\" fill-opacity=\"0.25\" height=\"14\" stroke=\"#fe9929\" stroke-width=\"1\" width=\"289\" x=\"0\" y=\"56\" /><text fill=\"#253494\" style=\"font-family:Lucida Grande; font-size:14pt; font-weight:normal\" x=\"0\" y=\"70\">####################</text><rect fill=\"#fe9929\" fill-opacity=\"0.25\" height=\"14\" stroke=\"#fe9929\" stroke-width=\"1\" width=\"234\" x=\"0\" y=\"84\" /><text fill=\"#253494\" style=\"font-family:Lucida Grande; font-size:14pt; font-weight:normal\" x=\"0\" y=\"98\">$$$$$$$$$$$$$$$$$$$$</text><rect fill=\"#fe9929\" fill-opacity=\"0.25\" height=\"14\" stroke=\"#fe9929\" stroke-width=\"1\" width=\"406\" x=\"0\" y=\"112\" /><text fill=\"#253494\" style=\"font-family:Lucida Grande; font-size:14pt; font-weight:normal\" x=\"0\" y=\"126\">%%%%%%%%%%%%%%%%%%%%</text><rect fill=\"#fe9929\" fill-opacity=\"0.25\" height=\"14\" stroke=\"#fe9929\" stroke-width=\"1\" width=\"234\" x=\"0\" y=\"140\" /><text fill=\"#253494\" style=\"font-family:Lucida Grande; font-size:14pt; font-weight:normal\" x=\"0\" y=\"154\">^^^^^^^^^^^^^^^^^^^^</text><rect fill=\"#fe9929\" fill-opacity=\"0.25\" height=\"14\" stroke=\"#fe9929\" stroke-width=\"1\" width=\"289\" x=\"0\" y=\"168\" /><text fill=\"#253494\" style=\"font-family:Lucida Grande; font-size:14pt; font-weight:normal\" x=\"0\" y=\"182\">&amp;&amp;&amp;&amp;&amp;&amp;&amp;&amp;&amp;&amp;&amp;&amp;&amp;&amp;&amp;&amp;&amp;&amp;&amp;&amp;</text><rect fill=\"#fe9929\" fill-opacity=\"0.25\" height=\"14\" stroke=\"#fe9929\" stroke-width=\"1\" width=\"234\" x=\"0\" y=\"196\" /><text fill=\"#253494\" style=\"font-family:Lucida Grande; font-size:14pt; font-weight:normal\" x=\"0\" y=\"210\">********************</text><rect fill=\"#fe9929\" fill-opacity=\"0.25\" height=\"14\" stroke=\"#fe9929\" stroke-width=\"1\" width=\"149\" x=\"0\" y=\"224\" /><text fill=\"#253494\" style=\"font-family:Lucida Grande; font-size:14pt; font-weight:normal\" x=\"0\" y=\"238\">((((((((((((((((((((</text><rect fill=\"#fe9929\" fill-opacity=\"0.25\" height=\"14\" stroke=\"#fe9929\" stroke-width=\"1\" width=\"149\" x=\"0\" y=\"252\" /><text fill=\"#253494\" style=\"font-family:Lucida Grande; font-size:14pt; font-weight:normal\" x=\"0\" y=\"266\">))))))))))))))))))))</text><rect fill=\"#fe9929\" fill-opacity=\"0.25\" height=\"14\" stroke=\"#fe9929\" stroke-width=\"1\" width=\"234\" x=\"0\" y=\"280\" /><text fill=\"#253494\" style=\"font-family:Lucida Grande; font-size:14pt; font-weight:normal\" x=\"0\" y=\"294\">____________________</text><rect fill=\"#fe9929\" fill-opacity=\"0.25\" height=\"14\" stroke=\"#fe9929\" stroke-width=\"1\" width=\"149\" x=\"0\" y=\"308\" /><text fill=\"#253494\" style=\"font-family:Lucida Grande; font-size:14pt; font-weight:normal\" x=\"0\" y=\"322\">--------------------</text><rect fill=\"#fe9929\" fill-opacity=\"0.25\" height=\"14\" stroke=\"#fe9929\" stroke-width=\"1\" width=\"289\" x=\"0\" y=\"336\" /><text fill=\"#253494\" style=\"font-family:Lucida Grande; font-size:14pt; font-weight:normal\" x=\"0\" y=\"350\">====================</text><rect fill=\"#fe9929\" fill-opacity=\"0.25\" height=\"14\" stroke=\"#fe9929\" stroke-width=\"1\" width=\"289\" x=\"0\" y=\"364\" /><text fill=\"#253494\" style=\"font-family:Lucida Grande; font-size:14pt; font-weight:normal\" x=\"0\" y=\"378\">++++++++++++++++++++</text></svg>"
      ],
      "text/plain": [
       "<svgwrite.drawing.Drawing at 0x1d85fff8070>"
      ]
     },
     "execution_count": 10,
     "metadata": {},
     "output_type": "execute_result"
    }
   ],
   "source": [
    "lines = [\n",
    "    \"!\" * R,\n",
    "    \"@\" * R,\n",
    "    \"#\" * R,\n",
    "    \"$\" * R,\n",
    "    \"%\" * R,\n",
    "    \"^\" * R,\n",
    "    \"&\" * R,\n",
    "    \"*\" * R,\n",
    "    \"(\" * R,\n",
    "    \")\" * R,\n",
    "    \"_\" * R,\n",
    "    \"-\" * R,\n",
    "    \"=\" * R,\n",
    "    \"+\" * R,\n",
    "]\n",
    "\n",
    "draw_lines(lines, model)"
   ]
  },
  {
   "cell_type": "markdown",
   "id": "9fd1c4a7",
   "metadata": {},
   "source": [
    "## Интерактивный пример"
   ]
  },
  {
   "cell_type": "code",
   "execution_count": 11,
   "id": "35a9d6a9",
   "metadata": {},
   "outputs": [
    {
     "data": {
      "application/vnd.jupyter.widget-view+json": {
       "model_id": "96805b1095b54d188b6dec25aaaea9ef",
       "version_major": 2,
       "version_minor": 0
      },
      "text/plain": [
       "interactive(children=(Text(value='', description='Input:', placeholder='Sample text', style=TextStyle(descript…"
      ]
     },
     "metadata": {},
     "output_type": "display_data"
    }
   ],
   "source": [
    "demo_panel = DemoPanel(model)\n",
    "demo_panel.draw()"
   ]
  }
 ],
 "metadata": {
  "kernelspec": {
   "display_name": "Python 3 (ipykernel)",
   "language": "python",
   "name": "python3"
  },
  "language_info": {
   "codemirror_mode": {
    "name": "ipython",
    "version": 3
   },
   "file_extension": ".py",
   "mimetype": "text/x-python",
   "name": "python",
   "nbconvert_exporter": "python",
   "pygments_lexer": "ipython3",
   "version": "3.8.13"
  }
 },
 "nbformat": 4,
 "nbformat_minor": 5
}
