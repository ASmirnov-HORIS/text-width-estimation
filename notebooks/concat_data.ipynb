{
 "cells": [
  {
   "cell_type": "code",
   "execution_count": null,
   "id": "9c57abf6",
   "metadata": {},
   "outputs": [],
   "source": [
    "import os\n",
    "\n",
    "import pandas as pd"
   ]
  },
  {
   "cell_type": "code",
   "execution_count": null,
   "id": "7aa03009",
   "metadata": {},
   "outputs": [],
   "source": [
    "DATA_DIR = \"../data\""
   ]
  },
  {
   "cell_type": "code",
   "execution_count": null,
   "id": "34095437",
   "metadata": {},
   "outputs": [],
   "source": [
    "walk = list(os.walk(DATA_DIR))\n",
    "os_names = list(walk[0][1])\n",
    "print(\"OS names: {0}\".format(os_names))\n",
    "datasets = list(set.intersection(*[set(fs) for r, ds, fs in walk[1:]]))\n",
    "print(\"Datasets: {0}\".format(datasets))"
   ]
  },
  {
   "cell_type": "code",
   "execution_count": null,
   "id": "ee674db2",
   "metadata": {},
   "outputs": [],
   "source": [
    "for dataset in datasets:\n",
    "    df = pd.concat([pd.read_csv(\"{0}/{1}/{2}\".format(DATA_DIR, os_name, dataset)) for os_name in os_names])\n",
    "    const_columns = [column for column in df.columns if column not in [\"os_name\", \"width\"]]\n",
    "    df.groupby(const_columns).width.max().to_frame().reset_index().to_csv(\"{0}/{1}\".format(DATA_DIR, dataset), index=False)\n",
    "    print(\"{0} is saved\".format(dataset))"
   ]
  }
 ],
 "metadata": {
  "kernelspec": {
   "display_name": "Python 3 (ipykernel)",
   "language": "python",
   "name": "python3"
  },
  "language_info": {
   "codemirror_mode": {
    "name": "ipython",
    "version": 3
   },
   "file_extension": ".py",
   "mimetype": "text/x-python",
   "name": "python",
   "nbconvert_exporter": "python",
   "pygments_lexer": "ipython3",
   "version": "3.8.13"
  }
 },
 "nbformat": 4,
 "nbformat_minor": 5
}
