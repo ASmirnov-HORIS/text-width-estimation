{
 "cells": [
  {
   "cell_type": "code",
   "execution_count": null,
   "id": "9c57abf6",
   "metadata": {},
   "outputs": [],
   "source": [
    "import os\n",
    "\n",
    "import pandas as pd"
   ]
  },
  {
   "cell_type": "code",
   "execution_count": null,
   "id": "7aa03009",
   "metadata": {},
   "outputs": [],
   "source": [
    "DATA_DIR = \"../data\""
   ]
  },
  {
   "cell_type": "code",
   "execution_count": null,
   "id": "e8355958",
   "metadata": {},
   "outputs": [],
   "source": [
    "os_names = next(os.walk(DATA_DIR))[1]\n",
    "os_names"
   ]
  },
  {
   "cell_type": "code",
   "execution_count": null,
   "id": "0448722d",
   "metadata": {},
   "outputs": [],
   "source": [
    "datasets = next(os.walk(DATA_DIR))[2]\n",
    "datasets"
   ]
  },
  {
   "cell_type": "code",
   "execution_count": null,
   "id": "ee674db2",
   "metadata": {},
   "outputs": [],
   "source": [
    "for dataset in datasets:\n",
    "    df = pd.concat([pd.read_csv(\"{0}/{1}/{2}\".format(DATA_DIR, os_name, dataset)) for os_name in os_names])\n",
    "    const_columns = [column for column in df.columns if column not in [\"os_name\", \"width\"]]\n",
    "    df.groupby(const_columns).width.max().to_frame().reset_index().to_csv(\"{0}/{1}\".format(DATA_DIR, dataset), index=False)\n",
    "    print(\"{0} is saved\".format(dataset))"
   ]
  }
 ],
 "metadata": {
  "kernelspec": {
   "display_name": "Python 3 (ipykernel)",
   "language": "python",
   "name": "python3"
  },
  "language_info": {
   "codemirror_mode": {
    "name": "ipython",
    "version": 3
   },
   "file_extension": ".py",
   "mimetype": "text/x-python",
   "name": "python",
   "nbconvert_exporter": "python",
   "pygments_lexer": "ipython3",
   "version": "3.8.13"
  }
 },
 "nbformat": 4,
 "nbformat_minor": 5
}
