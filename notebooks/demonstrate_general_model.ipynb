{
 "cells": [
  {
   "cell_type": "markdown",
   "id": "e78fd17a",
   "metadata": {},
   "source": [
    "# Демонстрация модели"
   ]
  },
  {
   "cell_type": "code",
   "execution_count": 1,
   "id": "0ddc4ef2",
   "metadata": {},
   "outputs": [
    {
     "data": {
      "text/html": [
       "\n",
       "            <div id=\"LbVuGl\"></div>\n",
       "            <script type=\"text/javascript\" data-lets-plot-script=\"library\">\n",
       "                if(!window.letsPlotCallQueue) {\n",
       "                    window.letsPlotCallQueue = [];\n",
       "                }; \n",
       "                window.letsPlotCall = function(f) {\n",
       "                    window.letsPlotCallQueue.push(f);\n",
       "                };\n",
       "                (function() {\n",
       "                    var script = document.createElement(\"script\");\n",
       "                    script.type = \"text/javascript\";\n",
       "                    script.src = \"https://cdn.jsdelivr.net/gh/JetBrains/lets-plot@v2.5.0/js-package/distr/lets-plot.min.js\";\n",
       "                    script.onload = function() {\n",
       "                        window.letsPlotCall = function(f) {f();};\n",
       "                        window.letsPlotCallQueue.forEach(function(f) {f();});\n",
       "                        window.letsPlotCallQueue = [];\n",
       "                        \n",
       "                    };\n",
       "                    script.onerror = function(event) {\n",
       "                        window.letsPlotCall = function(f) {};    // noop\n",
       "                        window.letsPlotCallQueue = [];\n",
       "                        var div = document.createElement(\"div\");\n",
       "                        div.style.color = 'darkred';\n",
       "                        div.textContent = 'Error loading Lets-Plot JS';\n",
       "                        document.getElementById(\"LbVuGl\").appendChild(div);\n",
       "                    };\n",
       "                    var e = document.getElementById(\"LbVuGl\");\n",
       "                    e.appendChild(script);\n",
       "                })()\n",
       "            </script>\n",
       "            "
      ]
     },
     "metadata": {},
     "output_type": "display_data"
    }
   ],
   "source": [
    "import ipywidgets as widgets\n",
    "\n",
    "import svgwrite\n",
    "\n",
    "import os; import sys; sys.path.append(os.path.join(sys.path[0], \"..\"))\n",
    "from utils import font as ufont\n",
    "from utils import models as ums"
   ]
  },
  {
   "cell_type": "code",
   "execution_count": 2,
   "id": "4ea2a314",
   "metadata": {},
   "outputs": [],
   "source": [
    "R = 20\n",
    "TEXT_COLOR = \"#253494\"\n",
    "BG_COLOR = \"#fe9929\"\n",
    "DATA_DIR = \"../data\"\n",
    "FONT = ufont.Font(\"Lucida Grande\", 14, ufont.FontFace(False, False))\n",
    "USE_EXAGG = True"
   ]
  },
  {
   "cell_type": "code",
   "execution_count": 3,
   "id": "b18513e6",
   "metadata": {},
   "outputs": [],
   "source": [
    "def draw_lines(lines, model, use_exagg=USE_EXAGG):\n",
    "    style = \"font-family:{0}; font-size:{1}pt; font-weight:{2}\".format(FONT.family, FONT.size, FONT.face)\n",
    "    n = len(lines)\n",
    "    dwg = svgwrite.Drawing(\"\", size=(800, 2 * n * FONT.size), profile=\"full\")\n",
    "    for i in range(n):\n",
    "        predicted_width = round(model.predict(lines[i], \\\n",
    "                                              family=FONT.family, \\\n",
    "                                              face=str(FONT.face), \\\n",
    "                                              size=FONT.size, \\\n",
    "                                              use_exagg=use_exagg))\n",
    "        dwg.add(dwg.rect(insert=(0, 2 * i * FONT.size), size=(predicted_width, FONT.size), stroke=BG_COLOR, stroke_width=1)\\\n",
    "                   .fill(color=BG_COLOR, opacity=.25))\n",
    "        dwg.add(dwg.text(lines[i], insert=(0, (2 * i + 1) * FONT.size), fill=TEXT_COLOR, style=style))\n",
    "    return dwg\n",
    "\n",
    "class DemoPanel:\n",
    "    def __init__(self, model):\n",
    "        self.model = model\n",
    "        self.input_widget = widgets.Text(\n",
    "            placeholder=\"Sample text\",\n",
    "            description=\"Input:\",\n",
    "            style=dict(description_width=\"initial\")\n",
    "        )\n",
    "\n",
    "    def _output(self, text):\n",
    "        return draw_lines([text], self.model)\n",
    "\n",
    "    def draw(self):\n",
    "        widgets.interact(self._output, text=self.input_widget)"
   ]
  },
  {
   "cell_type": "markdown",
   "id": "9dbe8d6f",
   "metadata": {},
   "source": [
    "## Загрузка модели"
   ]
  },
  {
   "cell_type": "code",
   "execution_count": 4,
   "id": "646cb17a",
   "metadata": {},
   "outputs": [
    {
     "data": {
      "text/plain": [
       "Clusters:\n",
       "\n",
       "mapOf(\n",
       "0 to listOf(\n",
       "' ', 'Î', 'Ï', 't', 'ŕ', 'r', 'l', 'j', 'i', 'f', 'ł', 'ŀ', '`', 'ľ', ']', 'º', '[', 'ļ', 'ĺ', 'ĵ', 'Í', 'ı', 'Ì', 'ř', '¹', '¸', '·', '´', '³', '²', 'ŧ', '°', 'ť', 'ţ', 'ª', '¨', '¦', 'ſ', '¡', 'ј', 'ї', '|', 'і', 'ŗ', 'ì', '\\', 'î', 'І', 'ĩ', 'Ĩ', 'í', ':', 'ȷ', 'ț', 'Ї', '/', '-', ',', ')', '(', ''', '\"', '!', '.', 'Ī', ';', 'I', 'J', 'İ', 'ĭ', 'Į', 'ī', 'ï', 'Ĭ', 'į'\n",
       "),\n",
       "1 to listOf(\n",
       "'ş', 'ĸ', 'ŝ', 'ĕ', 'š', 'ķ', 'Ţ', 'ė', 'Ł', 'ҙ', 'ś', 'Ĵ', 'ҭ', 'ē', 'đ', 'ũ', 'ѯ', 'ү', 'ĳ', 'Ť', 'Ŧ', 'Ļ', 'ę', 'Ŀ', 'ń', 'ņ', 'ň', 'ғ', 'ŋ', 'ħ', 'ґ', 'ō', 'Ґ', 'ŏ', 'ő', 'Ȉ', 'Ľ', 'ĥ', 'ģ', 'ҝ', 'ġ', 'ğ', 'ĝ', 'ě', 'Ĺ', 'ū', 'ż', 'ů', 'ǃ', 'ǁ', 'ǀ', 'ƾ', 'Г', 'З', 'Т', 'ƭ', 'ƫ', 'ƪ', 'а', 'б', 'в', 'г', 'д', 'Ј', 'ǉ', 'Ѓ', 'Ǐ', 'Ȋ', 'ȋ', 'ȑ', 'ȓ', 'ǿ', 'ș', 'ǻ', 'е', 'ȝ', 'ȴ', 'ȶ', 'ɂ', 'Ɉ', 'ɉ', 'ɍ', 'ǐ', 'ǰ', 'з', 'и', 'й', 'ђ', 'ѓ', 'є', 'ѕ', 'ž', 'ћ', 'ұ', 'ё', 'ќ', 'Ÿ', 'ŷ', 'Ŷ', 'ў', 'џ', 'ų', 'ű', 'ź', 'ŭ', 'я', 'ь', 'к', 'л', 'ƚ', 'н', 'о', 'Ɨ', 'Ɩ', 'э', 'п', 'с', 'ƒ', 'т', 'у', 'х', 'ц', 'ч', 'р', 'č', 'қ', 's', 'k', 'n', 'o', 'p', 'q', 'ċ', 'u', 'v', 'x', 'y', 'z', '{', '}', '¢', '£', '¤', '¥', '§', '«', '¯', 'µ', '¶', '»', '¿', 'ӟ', 'h', 'g', 'e', 'd', '$', '*', '0', '1', '2', '3', '4', '5', '6', '7', '8', '9', 'ә', '?', 'F', 'L', 'P', 'T', 'ӻ', 'ӷ', 'Ӷ', 'Y', '_', 'a', 'b', 'c', 'ԑ', 'ӏ', 'ȉ', 'ä', 'Ӏ', 'ą', 'ú', 'ù', 'ø', 'ö', 'õ', 'Ý', 'ô', 'ó', 'ß', 'û', 'ò', 'ñ', 'ð', 'á', 'â', 'ã', 'ë', 'å', 'ă', 'ç', 'è', 'é', 'à', 'ê', 'ü', 'ý', 'ҳ', 'þ', 'ć', 'ā', 'ÿ', 'ҹ', 'ĉ'\n",
       "),\n",
       "2 to listOf(\n",
       "'Є', 'ԏ', 'В', 'ԇ', 'Б', 'Д', 'Е', 'Ɏ', 'Ԇ', 'И', 'ԍ', 'ɏ', 'Џ', 'А', 'Ѐ', 'Ў', 'Ќ', 'Ё', 'ҩ', 'ԓ', 'ԛ', 'Ԟ', 'Ѕ', 'ԥ', 'ԟ', 'Ҹ', 'Ԑ', 'Ԧ', 'Ҕ', 'ҫ', 'ȧ', 'Ȧ', 'ȥ', 'Ȥ', 'ȣ', 'Ȣ', 'ȟ', 'Ȝ', 'ҵ', 'Ү', 'Ұ', 'ԧ', 'Ș', 'ȗ', 'ȕ', 'ԩ', 'Ԭ', 'ȏ', 'ȍ', 'ԭ', 'Ț', 'ɋ', 'Ȩ', 'ȫ', 'Й', 'ɇ', 'Ɇ', 'Ʌ', 'Ƀ', 'Ҭ', 'Ɂ', 'ɀ', 'ȿ', 'ȩ', 'Ⱦ', 'ȼ', 'Ⱥ', 'ҷ', 'Ҷ', 'ȳ', 'Ȳ', 'ȱ', 'ȯ', 'ȭ', 'Ƚ', 'К', 'Э', 'Н', 'ӗ', 'ѷ', 'Ӄ', 'ѵ', 'ӛ', 'Ӟ', 'Ҙ', 'ѻ', 'Ӡ', 'ӣ', 'ӥ', 'ѳ', 'ӧ', 'ө', 'Ѯ', 'ӫ', 'ӡ', 'Ӗ', 'ҁ', 'ӓ', 'Ӆ', 'ӆ', 'Ғ', 'ӈ', 'ӊ', 'Ӌ', 'ӌ', 'ҕ', 'ҏ', 'Ӑ', 'Ҏ', 'ҍ', 'Ҍ', 'ӑ', 'ҋ', 'Ӓ', '҂', 'ѫ', 'ҿ', 'ѧ', 'ѣ', 'Ӽ', 'ӽ', 'Ӿ', 'Я', 'ӄ', 'Ь', 'ӿ', 'Ԁ', 'Ч', 'ԁ', 'Ц', 'Х', 'У', 'ң', 'С', 'Р', 'П', 'ҟ', 'Л', 'Ӻ', 'ӵ', 'ҽ', 'ӭ', 'Ӯ', 'ӯ', 'ѝ', 'Ӱ', 'ӱ', 'һ', 'Ӳ', 'Қ', 'ѐ', 'ъ', 'ӳ', 'Һ', 'Ҝ', 'Ӵ', 'м', 'Ҟ', 'Ҳ', 'Ǟ', 'Ȇ', 'Ŭ', 'Ū', 'ȇ', 'Ũ', 'Š', 'Ş', 'Ŝ', 'Ś', 'Ř', 'Ŗ', 'Ŕ', 'Ŋ', 'ŉ', 'Ň', 'Ņ', 'Ń', 'Ķ', 'Ĳ', 'Ĥ', 'Ě', 'Ę', 'Ė', 'Ĕ', 'Ů', 'Ē', 'Ű', 'Ź', 'ƨ', 'Ƨ', 'Ʀ', 'ƥ', 'ơ', 'ƞ', 'ƛ', 'ƙ', 'Ɣ', 'Ƒ', 'Ɛ', 'Ǝ', 'ƍ', 'ƌ', 'Ƌ', 'ƈ', 'ƅ', 'Ƅ', 'ƃ', 'Ƃ', 'ƀ', 'Ž', 'Ż', 'Ų', 'Ʃ', 'Đ', 'Ď', '±', '¬', '~', '^', 'Z', 'X', 'V', 'U', 'S', 'R', 'N', 'K', 'H', 'E', 'D', 'C', 'B', 'A', '>', '=', '<', '+', '#', 'À', 'ď', 'Á', 'Ã', 'Č', 'Ċ', 'Ĉ', 'Ć', 'Ą', 'Ă', 'Ā', '÷', 'Þ', 'Ü', 'Û', 'Ú', 'Ù', '×', 'Ñ', 'Ð', 'Ë', 'Ê', 'É', 'È', 'Ç', 'Å', 'Ä', 'Â', 'Ƭ', 'ԯ', 'ǝ', 'ǧ', 'Ǩ', 'ƹ', 'ƺ', 'ǖ', 'ǩ', 'Ȁ', 'Ƽ', 'ƽ', 'ƿ', 'ǂ', 'ǔ', 'Ǻ', 'ǹ', 'ǒ', 'Ƿ', 'ǫ', 'ǜ', 'ǭ', 'ǎ', 'Ǯ', 'Ǎ', 'ǵ', 'Ƹ', 'Ʒ', 'ƻ', 'ƶ', 'Ʈ', 'Ԯ', 'ǟ', 'Ǡ', 'ȅ', 'ư', 'ǡ', 'Ȅ', 'ȁ', 'ǥ', 'ƴ', 'ȃ', 'ǯ', 'ǚ', 'Ȃ', 'ǘ', 'Ƶ'\n",
       "),\n",
       "3 to listOf(\n",
       "'Ӛ', 'Ҿ', 'Ә', 'Ȫ', 'ȵ', 'ӕ', 'ӂ', 'Ȭ', 'Ǭ', 'Ȯ', 'Ҽ', 'Ò', 'Ǧ', 'ӎ', 'Ӈ', 'Ö', 'Ø', 'æ', 'ӝ', 'Ӊ', 'Ȱ', 'Ǥ', 'Ǫ', 'Ȼ', 'Ҵ', 'Ó', 'Ӎ', 'ǣ', 'Õ', 'Ô', '®', 'Ǵ', 'ԉ', 'ԋ', 'Ԍ', 'G', 'Ԏ', 'Ȕ', 'Ԓ', 'Ȓ', 'Ԗ', 'ԗ', 'Ȗ', 'ԙ', 'ԝ', 'Ȑ', 'ԡ', 'ԣ', 'Ԥ', 'Ȏ', 'Ԩ', '&', '%', 'Ȍ', 'Ԛ', 'Ӣ', 'ԅ', 'ԃ', 'Ӥ', 'Ӧ', '¾', 'Ө', '½', 'Ӫ', '¼', 'Ӭ', 'ȡ', '©', 'Ԅ', 'Ƞ', 'm', 'Ȟ', 'Ǹ', 'Ӹ', 'ӹ', 'ǽ', 'Q', 'O', 'Ǿ', 'M', 'w', 'Ʉ', 'Ư', 'Ǜ', 'ю', 'Ɖ', 'Ƈ', 'Ɔ', 'Ɓ', 'љ', 'њ', 'Ѝ', 'ŵ', 'Ɗ', 'ѡ', 'Ћ', 'ѥ', 'Ѧ', 'Ҫ', 'ѩ', 'Ѫ', 'ѭ', 'ǈ', 'Ѱ', 'Ѣ', 'ѱ', 'ы', 'ш', 'Ъ', 'Ы', 'Ф', 'Ʊ', 'Ʋ', 'Ƴ', 'Ƥ', 'ƣ', 'ж', 'щ', 'Ơ', 'О', 'Ɲ', 'Ɯ', 'М', 'Ƙ', 'ƕ', 'Ɠ', 'ф', 'Ə', 'Ɵ', 'ǌ', 'Ѳ', 'Ō', 'Ǒ', 'Ɋ', 'ҡ', 'Ҡ', 'Ҋ', 'Ǔ', 'Ğ', 'Ҁ', 'Ġ', 'Ŏ', 'Ģ', 'Ǖ', 'Ɍ', 'Ħ', 'Ǚ', 'Ǘ', 'Ő', 'ѿ', 'Ң', 'җ', 'ѽ', 'Ѵ', 'Ѷ', 'ҥ', 'Ђ', 'Ҩ', 'ҧ', 'ѹ', 'Ĝ', 'Ѻ'\n",
       "),\n",
       "4 to listOf(\n",
       "'Ш', 'Щ', 'ԫ', 'Ԫ', 'Ԕ', 'Ԡ', 'Ҧ', 'Ԙ', 'Ю', 'ȹ', 'Ԝ', 'Ƣ', '@', 'Ҥ', 'Ǣ', 'Ԣ', 'ԕ', 'ȸ', 'Ӝ', 'Ӂ', 'ǋ', 'Ǳ', 'ǲ', 'ǳ', 'Ѹ', 'Ǌ', 'Ѭ', 'Љ', 'Ӕ', 'Ѩ', 'Њ', 'Ѽ', 'Ѿ', 'Ѥ', 'Ѡ', 'Ŵ', '҈', 'Ԋ', 'Ж', 'Ԉ', 'Æ', 'Ԃ', 'Œ', 'Җ', 'Ǆ', 'ǅ', 'Ǽ', 'ǆ', '҉', 'Ǉ', 'W', 'œ', 'Ƕ'\n",
       ")\n",
       ")\n",
       "\n",
       "---\n",
       "\n",
       "Cluster widths:\n",
       "\n",
       "mapOf(\n",
       "0 to 6.913333333333335,\n",
       "1 to 11.038461538461538,\n",
       "2 to 13.424281150159745,\n",
       "3 to 15.739506172839508,\n",
       "4 to 20.13962264150944\n",
       ")\n",
       "\n",
       "---\n",
       "\n",
       "Extra symbol width: 13.07888349514563\n",
       "\n",
       "---\n",
       "\n",
       "Family coefficients:\n",
       "\n",
       "mapOf(\n",
       "\"Arial\" to -0.6837779499673,\n",
       "\"Calibri\" to 0.28558136180135374,\n",
       "\"Garamond\" to 0.4156164810878001,\n",
       "\"Geneva\" to 0.28622987023196333,\n",
       "\"Georgia\" to 0.4156164810878001,\n",
       "\"Helvetica\" to -0.6837779499673,\n",
       "\"Lucida Grande\" to 0.28622987023196333,\n",
       "\"Rockwell\" to 0.5147205322837164,\n",
       "\"Times New Roman\" to -1.9457923834244848,\n",
       "\"Verdana\" to 0.5649063510868384\n",
       ")\n",
       "\n",
       "---\n",
       "\n",
       "Face coefficients:\n",
       "\n",
       "mapOf(\n",
       "\"bold\" to 1.0107127530333762,\n",
       "\"bold+italic\" to 1.1260444609491231,\n",
       "\"italic\" to 0.13575573844391728,\n",
       "\"normal\" to 2.691318849577714e-17\n",
       ")\n",
       "\n",
       "---\n",
       "\n",
       "Size coefficient:\n",
       "\n",
       "0.9946904666152087\n",
       "\n",
       "---\n",
       "\n",
       "Exagg coefficient:\n",
       "\n",
       "1.1012"
      ]
     },
     "execution_count": 4,
     "metadata": {},
     "output_type": "execute_result"
    }
   ],
   "source": [
    "model = ums.FullModel.load(\"{0}/model.csv\".format(DATA_DIR), \"{0}/model.json\".format(DATA_DIR))\n",
    "model"
   ]
  },
  {
   "cell_type": "markdown",
   "id": "acb20166",
   "metadata": {},
   "source": [
    "## Примеры"
   ]
  },
  {
   "cell_type": "code",
   "execution_count": 5,
   "id": "3067f47c",
   "metadata": {},
   "outputs": [
    {
     "data": {
      "image/svg+xml": [
       "<svg baseProfile=\"full\" height=\"504\" version=\"1.1\" width=\"800\" xmlns=\"http://www.w3.org/2000/svg\" xmlns:ev=\"http://www.w3.org/2001/xml-events\" xmlns:xlink=\"http://www.w3.org/1999/xlink\"><defs /><rect fill=\"#fe9929\" fill-opacity=\"0.25\" height=\"14\" stroke=\"#fe9929\" stroke-width=\"1\" width=\"219\" x=\"0\" y=\"0\" /><text fill=\"#253494\" style=\"font-family:Lucida Grande; font-size:14pt; font-weight:normal\" x=\"0\" y=\"14\">Quas modi voluptate</text><rect fill=\"#fe9929\" fill-opacity=\"0.25\" height=\"14\" stroke=\"#fe9929\" stroke-width=\"1\" width=\"196\" x=\"0\" y=\"28\" /><text fill=\"#253494\" style=\"font-family:Lucida Grande; font-size:14pt; font-weight:normal\" x=\"0\" y=\"42\">Protéger mari vieil</text><rect fill=\"#fe9929\" fill-opacity=\"0.25\" height=\"14\" stroke=\"#fe9929\" stroke-width=\"1\" width=\"246\" x=\"0\" y=\"56\" /><text fill=\"#253494\" style=\"font-family:Lucida Grande; font-size:14pt; font-weight:normal\" x=\"0\" y=\"70\">Quatre même nombreux</text><rect fill=\"#fe9929\" fill-opacity=\"0.25\" height=\"14\" stroke=\"#fe9929\" stroke-width=\"1\" width=\"242\" x=\"0\" y=\"84\" /><text fill=\"#253494\" style=\"font-family:Lucida Grande; font-size:14pt; font-weight:normal\" x=\"0\" y=\"98\">Уронить полоска цвет</text><rect fill=\"#fe9929\" fill-opacity=\"0.25\" height=\"14\" stroke=\"#fe9929\" stroke-width=\"1\" width=\"220\" x=\"0\" y=\"112\" /><text fill=\"#253494\" style=\"font-family:Lucida Grande; font-size:14pt; font-weight:normal\" x=\"0\" y=\"126\">Feu métier satisfaire</text><rect fill=\"#fe9929\" fill-opacity=\"0.25\" height=\"14\" stroke=\"#fe9929\" stroke-width=\"1\" width=\"241\" x=\"0\" y=\"140\" /><text fill=\"#253494\" style=\"font-family:Lucida Grande; font-size:14pt; font-weight:normal\" x=\"0\" y=\"154\">Suggest page southern</text><rect fill=\"#fe9929\" fill-opacity=\"0.25\" height=\"14\" stroke=\"#fe9929\" stroke-width=\"1\" width=\"280\" x=\"0\" y=\"168\" /><text fill=\"#253494\" style=\"font-family:Lucida Grande; font-size:14pt; font-weight:normal\" x=\"0\" y=\"182\">Praesentium in ipsum eius</text><rect fill=\"#fe9929\" fill-opacity=\"0.25\" height=\"14\" stroke=\"#fe9929\" stroke-width=\"1\" width=\"312\" x=\"0\" y=\"196\" /><text fill=\"#253494\" style=\"font-family:Lucida Grande; font-size:14pt; font-weight:normal\" x=\"0\" y=\"210\">Сутки головной висеть труп</text><rect fill=\"#fe9929\" fill-opacity=\"0.25\" height=\"14\" stroke=\"#fe9929\" stroke-width=\"1\" width=\"277\" x=\"0\" y=\"224\" /><text fill=\"#253494\" style=\"font-family:Lucida Grande; font-size:14pt; font-weight:normal\" x=\"0\" y=\"238\">Préférer gens hors douleur</text><rect fill=\"#fe9929\" fill-opacity=\"0.25\" height=\"14\" stroke=\"#fe9929\" stroke-width=\"1\" width=\"290\" x=\"0\" y=\"252\" /><text fill=\"#253494\" style=\"font-family:Lucida Grande; font-size:14pt; font-weight:normal\" x=\"0\" y=\"266\">Fugiat mollitia repudiandae</text><rect fill=\"#fe9929\" fill-opacity=\"0.25\" height=\"14\" stroke=\"#fe9929\" stroke-width=\"1\" width=\"296\" x=\"0\" y=\"280\" /><text fill=\"#253494\" style=\"font-family:Lucida Grande; font-size:14pt; font-weight:normal\" x=\"0\" y=\"294\">Scientist nation opportunity</text><rect fill=\"#fe9929\" fill-opacity=\"0.25\" height=\"14\" stroke=\"#fe9929\" stroke-width=\"1\" width=\"337\" x=\"0\" y=\"308\" /><text fill=\"#253494\" style=\"font-family:Lucida Grande; font-size:14pt; font-weight:normal\" x=\"0\" y=\"322\">Ouvrage situation musique près</text><rect fill=\"#fe9929\" fill-opacity=\"0.25\" height=\"14\" stroke=\"#fe9929\" stroke-width=\"1\" width=\"394\" x=\"0\" y=\"336\" /><text fill=\"#253494\" style=\"font-family:Lucida Grande; font-size:14pt; font-weight:normal\" x=\"0\" y=\"350\">Стакан механический командующий</text><rect fill=\"#fe9929\" fill-opacity=\"0.25\" height=\"14\" stroke=\"#fe9929\" stroke-width=\"1\" width=\"338\" x=\"0\" y=\"364\" /><text fill=\"#253494\" style=\"font-family:Lucida Grande; font-size:14pt; font-weight:normal\" x=\"0\" y=\"378\">Nulla similique neque provident</text><rect fill=\"#fe9929\" fill-opacity=\"0.25\" height=\"14\" stroke=\"#fe9929\" stroke-width=\"1\" width=\"334\" x=\"0\" y=\"392\" /><text fill=\"#253494\" style=\"font-family:Lucida Grande; font-size:14pt; font-weight:normal\" x=\"0\" y=\"406\">Red information last everything</text><rect fill=\"#fe9929\" fill-opacity=\"0.25\" height=\"14\" stroke=\"#fe9929\" stroke-width=\"1\" width=\"330\" x=\"0\" y=\"420\" /><text fill=\"#253494\" style=\"font-family:Lucida Grande; font-size:14pt; font-weight:normal\" x=\"0\" y=\"434\">Peace technology officer relate</text><rect fill=\"#fe9929\" fill-opacity=\"0.25\" height=\"14\" stroke=\"#fe9929\" stroke-width=\"1\" width=\"406\" x=\"0\" y=\"448\" /><text fill=\"#253494\" style=\"font-family:Lucida Grande; font-size:14pt; font-weight:normal\" x=\"0\" y=\"462\">Наткнуться подробность демократия</text><rect fill=\"#fe9929\" fill-opacity=\"0.25\" height=\"14\" stroke=\"#fe9929\" stroke-width=\"1\" width=\"438\" x=\"0\" y=\"476\" /><text fill=\"#253494\" style=\"font-family:Lucida Grande; font-size:14pt; font-weight:normal\" x=\"0\" y=\"490\">Разуметься хлеб порядок предоставить</text></svg>"
      ],
      "text/plain": [
       "<svgwrite.drawing.Drawing at 0x1c6936166d0>"
      ]
     },
     "execution_count": 5,
     "metadata": {},
     "output_type": "execute_result"
    }
   ],
   "source": [
    "lines = [\n",
    "    \"Quas modi voluptate\",\n",
    "    \"Protéger mari vieil\",\n",
    "    \"Quatre même nombreux\",\n",
    "    \"Уронить полоска цвет\",\n",
    "    \"Feu métier satisfaire\",\n",
    "    \"Suggest page southern\",\n",
    "    \"Praesentium in ipsum eius\",\n",
    "    \"Сутки головной висеть труп\",\n",
    "    \"Préférer gens hors douleur\",\n",
    "    \"Fugiat mollitia repudiandae\",\n",
    "    \"Scientist nation opportunity\",\n",
    "    \"Ouvrage situation musique près\",\n",
    "    \"Стакан механический командующий\",\n",
    "    \"Nulla similique neque provident\",\n",
    "    \"Red information last everything\",\n",
    "    \"Peace technology officer relate\",\n",
    "    \"Наткнуться подробность демократия\",\n",
    "    \"Разуметься хлеб порядок предоставить\",\n",
    "]\n",
    "\n",
    "draw_lines(lines, model)"
   ]
  },
  {
   "cell_type": "code",
   "execution_count": 6,
   "id": "41b1bbaa",
   "metadata": {},
   "outputs": [
    {
     "data": {
      "image/svg+xml": [
       "<svg baseProfile=\"full\" height=\"728\" version=\"1.1\" width=\"800\" xmlns=\"http://www.w3.org/2000/svg\" xmlns:ev=\"http://www.w3.org/2001/xml-events\" xmlns:xlink=\"http://www.w3.org/1999/xlink\"><defs /><rect fill=\"#fe9929\" fill-opacity=\"0.25\" height=\"14\" stroke=\"#fe9929\" stroke-width=\"1\" width=\"300\" x=\"0\" y=\"0\" /><text fill=\"#253494\" style=\"font-family:Lucida Grande; font-size:14pt; font-weight:normal\" x=\"0\" y=\"14\">AAAAAAAAAAAAAAAAAAAA</text><rect fill=\"#fe9929\" fill-opacity=\"0.25\" height=\"14\" stroke=\"#fe9929\" stroke-width=\"1\" width=\"300\" x=\"0\" y=\"28\" /><text fill=\"#253494\" style=\"font-family:Lucida Grande; font-size:14pt; font-weight:normal\" x=\"0\" y=\"42\">BBBBBBBBBBBBBBBBBBBB</text><rect fill=\"#fe9929\" fill-opacity=\"0.25\" height=\"14\" stroke=\"#fe9929\" stroke-width=\"1\" width=\"300\" x=\"0\" y=\"56\" /><text fill=\"#253494\" style=\"font-family:Lucida Grande; font-size:14pt; font-weight:normal\" x=\"0\" y=\"70\">CCCCCCCCCCCCCCCCCCCC</text><rect fill=\"#fe9929\" fill-opacity=\"0.25\" height=\"14\" stroke=\"#fe9929\" stroke-width=\"1\" width=\"300\" x=\"0\" y=\"84\" /><text fill=\"#253494\" style=\"font-family:Lucida Grande; font-size:14pt; font-weight:normal\" x=\"0\" y=\"98\">DDDDDDDDDDDDDDDDDDDD</text><rect fill=\"#fe9929\" fill-opacity=\"0.25\" height=\"14\" stroke=\"#fe9929\" stroke-width=\"1\" width=\"300\" x=\"0\" y=\"112\" /><text fill=\"#253494\" style=\"font-family:Lucida Grande; font-size:14pt; font-weight:normal\" x=\"0\" y=\"126\">EEEEEEEEEEEEEEEEEEEE</text><rect fill=\"#fe9929\" fill-opacity=\"0.25\" height=\"14\" stroke=\"#fe9929\" stroke-width=\"1\" width=\"248\" x=\"0\" y=\"140\" /><text fill=\"#253494\" style=\"font-family:Lucida Grande; font-size:14pt; font-weight:normal\" x=\"0\" y=\"154\">FFFFFFFFFFFFFFFFFFFF</text><rect fill=\"#fe9929\" fill-opacity=\"0.25\" height=\"14\" stroke=\"#fe9929\" stroke-width=\"1\" width=\"351\" x=\"0\" y=\"168\" /><text fill=\"#253494\" style=\"font-family:Lucida Grande; font-size:14pt; font-weight:normal\" x=\"0\" y=\"182\">GGGGGGGGGGGGGGGGGGGG</text><rect fill=\"#fe9929\" fill-opacity=\"0.25\" height=\"14\" stroke=\"#fe9929\" stroke-width=\"1\" width=\"300\" x=\"0\" y=\"196\" /><text fill=\"#253494\" style=\"font-family:Lucida Grande; font-size:14pt; font-weight:normal\" x=\"0\" y=\"210\">HHHHHHHHHHHHHHHHHHHH</text><rect fill=\"#fe9929\" fill-opacity=\"0.25\" height=\"14\" stroke=\"#fe9929\" stroke-width=\"1\" width=\"158\" x=\"0\" y=\"224\" /><text fill=\"#253494\" style=\"font-family:Lucida Grande; font-size:14pt; font-weight:normal\" x=\"0\" y=\"238\">IIIIIIIIIIIIIIIIIIII</text><rect fill=\"#fe9929\" fill-opacity=\"0.25\" height=\"14\" stroke=\"#fe9929\" stroke-width=\"1\" width=\"158\" x=\"0\" y=\"252\" /><text fill=\"#253494\" style=\"font-family:Lucida Grande; font-size:14pt; font-weight:normal\" x=\"0\" y=\"266\">JJJJJJJJJJJJJJJJJJJJ</text><rect fill=\"#fe9929\" fill-opacity=\"0.25\" height=\"14\" stroke=\"#fe9929\" stroke-width=\"1\" width=\"300\" x=\"0\" y=\"280\" /><text fill=\"#253494\" style=\"font-family:Lucida Grande; font-size:14pt; font-weight:normal\" x=\"0\" y=\"294\">KKKKKKKKKKKKKKKKKKKK</text><rect fill=\"#fe9929\" fill-opacity=\"0.25\" height=\"14\" stroke=\"#fe9929\" stroke-width=\"1\" width=\"248\" x=\"0\" y=\"308\" /><text fill=\"#253494\" style=\"font-family:Lucida Grande; font-size:14pt; font-weight:normal\" x=\"0\" y=\"322\">LLLLLLLLLLLLLLLLLLLL</text><rect fill=\"#fe9929\" fill-opacity=\"0.25\" height=\"14\" stroke=\"#fe9929\" stroke-width=\"1\" width=\"351\" x=\"0\" y=\"336\" /><text fill=\"#253494\" style=\"font-family:Lucida Grande; font-size:14pt; font-weight:normal\" x=\"0\" y=\"350\">MMMMMMMMMMMMMMMMMMMM</text><rect fill=\"#fe9929\" fill-opacity=\"0.25\" height=\"14\" stroke=\"#fe9929\" stroke-width=\"1\" width=\"300\" x=\"0\" y=\"364\" /><text fill=\"#253494\" style=\"font-family:Lucida Grande; font-size:14pt; font-weight:normal\" x=\"0\" y=\"378\">NNNNNNNNNNNNNNNNNNNN</text><rect fill=\"#fe9929\" fill-opacity=\"0.25\" height=\"14\" stroke=\"#fe9929\" stroke-width=\"1\" width=\"351\" x=\"0\" y=\"392\" /><text fill=\"#253494\" style=\"font-family:Lucida Grande; font-size:14pt; font-weight:normal\" x=\"0\" y=\"406\">OOOOOOOOOOOOOOOOOOOO</text><rect fill=\"#fe9929\" fill-opacity=\"0.25\" height=\"14\" stroke=\"#fe9929\" stroke-width=\"1\" width=\"248\" x=\"0\" y=\"420\" /><text fill=\"#253494\" style=\"font-family:Lucida Grande; font-size:14pt; font-weight:normal\" x=\"0\" y=\"434\">PPPPPPPPPPPPPPPPPPPP</text><rect fill=\"#fe9929\" fill-opacity=\"0.25\" height=\"14\" stroke=\"#fe9929\" stroke-width=\"1\" width=\"351\" x=\"0\" y=\"448\" /><text fill=\"#253494\" style=\"font-family:Lucida Grande; font-size:14pt; font-weight:normal\" x=\"0\" y=\"462\">QQQQQQQQQQQQQQQQQQQQ</text><rect fill=\"#fe9929\" fill-opacity=\"0.25\" height=\"14\" stroke=\"#fe9929\" stroke-width=\"1\" width=\"300\" x=\"0\" y=\"476\" /><text fill=\"#253494\" style=\"font-family:Lucida Grande; font-size:14pt; font-weight:normal\" x=\"0\" y=\"490\">RRRRRRRRRRRRRRRRRRRR</text><rect fill=\"#fe9929\" fill-opacity=\"0.25\" height=\"14\" stroke=\"#fe9929\" stroke-width=\"1\" width=\"300\" x=\"0\" y=\"504\" /><text fill=\"#253494\" style=\"font-family:Lucida Grande; font-size:14pt; font-weight:normal\" x=\"0\" y=\"518\">SSSSSSSSSSSSSSSSSSSS</text><rect fill=\"#fe9929\" fill-opacity=\"0.25\" height=\"14\" stroke=\"#fe9929\" stroke-width=\"1\" width=\"248\" x=\"0\" y=\"532\" /><text fill=\"#253494\" style=\"font-family:Lucida Grande; font-size:14pt; font-weight:normal\" x=\"0\" y=\"546\">TTTTTTTTTTTTTTTTTTTT</text><rect fill=\"#fe9929\" fill-opacity=\"0.25\" height=\"14\" stroke=\"#fe9929\" stroke-width=\"1\" width=\"300\" x=\"0\" y=\"560\" /><text fill=\"#253494\" style=\"font-family:Lucida Grande; font-size:14pt; font-weight:normal\" x=\"0\" y=\"574\">UUUUUUUUUUUUUUUUUUUU</text><rect fill=\"#fe9929\" fill-opacity=\"0.25\" height=\"14\" stroke=\"#fe9929\" stroke-width=\"1\" width=\"300\" x=\"0\" y=\"588\" /><text fill=\"#253494\" style=\"font-family:Lucida Grande; font-size:14pt; font-weight:normal\" x=\"0\" y=\"602\">VVVVVVVVVVVVVVVVVVVV</text><rect fill=\"#fe9929\" fill-opacity=\"0.25\" height=\"14\" stroke=\"#fe9929\" stroke-width=\"1\" width=\"447\" x=\"0\" y=\"616\" /><text fill=\"#253494\" style=\"font-family:Lucida Grande; font-size:14pt; font-weight:normal\" x=\"0\" y=\"630\">WWWWWWWWWWWWWWWWWWWW</text><rect fill=\"#fe9929\" fill-opacity=\"0.25\" height=\"14\" stroke=\"#fe9929\" stroke-width=\"1\" width=\"300\" x=\"0\" y=\"644\" /><text fill=\"#253494\" style=\"font-family:Lucida Grande; font-size:14pt; font-weight:normal\" x=\"0\" y=\"658\">XXXXXXXXXXXXXXXXXXXX</text><rect fill=\"#fe9929\" fill-opacity=\"0.25\" height=\"14\" stroke=\"#fe9929\" stroke-width=\"1\" width=\"248\" x=\"0\" y=\"672\" /><text fill=\"#253494\" style=\"font-family:Lucida Grande; font-size:14pt; font-weight:normal\" x=\"0\" y=\"686\">YYYYYYYYYYYYYYYYYYYY</text><rect fill=\"#fe9929\" fill-opacity=\"0.25\" height=\"14\" stroke=\"#fe9929\" stroke-width=\"1\" width=\"300\" x=\"0\" y=\"700\" /><text fill=\"#253494\" style=\"font-family:Lucida Grande; font-size:14pt; font-weight:normal\" x=\"0\" y=\"714\">ZZZZZZZZZZZZZZZZZZZZ</text></svg>"
      ],
      "text/plain": [
       "<svgwrite.drawing.Drawing at 0x1c6936c5400>"
      ]
     },
     "execution_count": 6,
     "metadata": {},
     "output_type": "execute_result"
    }
   ],
   "source": [
    "lines = [\n",
    "    \"A\" * R,\n",
    "    \"B\" * R,\n",
    "    \"C\" * R,\n",
    "    \"D\" * R,\n",
    "    \"E\" * R,\n",
    "    \"F\" * R,\n",
    "    \"G\" * R,\n",
    "    \"H\" * R,\n",
    "    \"I\" * R,\n",
    "    \"J\" * R,\n",
    "    \"K\" * R,\n",
    "    \"L\" * R,\n",
    "    \"M\" * R,\n",
    "    \"N\" * R,\n",
    "    \"O\" * R,\n",
    "    \"P\" * R,\n",
    "    \"Q\" * R,\n",
    "    \"R\" * R,\n",
    "    \"S\" * R,\n",
    "    \"T\" * R,\n",
    "    \"U\" * R,\n",
    "    \"V\" * R,\n",
    "    \"W\" * R,\n",
    "    \"X\" * R,\n",
    "    \"Y\" * R,\n",
    "    \"Z\" * R,\n",
    "]\n",
    "\n",
    "draw_lines(lines, model)"
   ]
  },
  {
   "cell_type": "code",
   "execution_count": 7,
   "id": "4b1b3348",
   "metadata": {},
   "outputs": [
    {
     "data": {
      "image/svg+xml": [
       "<svg baseProfile=\"full\" height=\"728\" version=\"1.1\" width=\"800\" xmlns=\"http://www.w3.org/2000/svg\" xmlns:ev=\"http://www.w3.org/2001/xml-events\" xmlns:xlink=\"http://www.w3.org/1999/xlink\"><defs /><rect fill=\"#fe9929\" fill-opacity=\"0.25\" height=\"14\" stroke=\"#fe9929\" stroke-width=\"1\" width=\"248\" x=\"0\" y=\"0\" /><text fill=\"#253494\" style=\"font-family:Lucida Grande; font-size:14pt; font-weight:normal\" x=\"0\" y=\"14\">aaaaaaaaaaaaaaaaaaaa</text><rect fill=\"#fe9929\" fill-opacity=\"0.25\" height=\"14\" stroke=\"#fe9929\" stroke-width=\"1\" width=\"248\" x=\"0\" y=\"28\" /><text fill=\"#253494\" style=\"font-family:Lucida Grande; font-size:14pt; font-weight:normal\" x=\"0\" y=\"42\">bbbbbbbbbbbbbbbbbbbb</text><rect fill=\"#fe9929\" fill-opacity=\"0.25\" height=\"14\" stroke=\"#fe9929\" stroke-width=\"1\" width=\"248\" x=\"0\" y=\"56\" /><text fill=\"#253494\" style=\"font-family:Lucida Grande; font-size:14pt; font-weight:normal\" x=\"0\" y=\"70\">cccccccccccccccccccc</text><rect fill=\"#fe9929\" fill-opacity=\"0.25\" height=\"14\" stroke=\"#fe9929\" stroke-width=\"1\" width=\"248\" x=\"0\" y=\"84\" /><text fill=\"#253494\" style=\"font-family:Lucida Grande; font-size:14pt; font-weight:normal\" x=\"0\" y=\"98\">dddddddddddddddddddd</text><rect fill=\"#fe9929\" fill-opacity=\"0.25\" height=\"14\" stroke=\"#fe9929\" stroke-width=\"1\" width=\"248\" x=\"0\" y=\"112\" /><text fill=\"#253494\" style=\"font-family:Lucida Grande; font-size:14pt; font-weight:normal\" x=\"0\" y=\"126\">eeeeeeeeeeeeeeeeeeee</text><rect fill=\"#fe9929\" fill-opacity=\"0.25\" height=\"14\" stroke=\"#fe9929\" stroke-width=\"1\" width=\"158\" x=\"0\" y=\"140\" /><text fill=\"#253494\" style=\"font-family:Lucida Grande; font-size:14pt; font-weight:normal\" x=\"0\" y=\"154\">ffffffffffffffffffff</text><rect fill=\"#fe9929\" fill-opacity=\"0.25\" height=\"14\" stroke=\"#fe9929\" stroke-width=\"1\" width=\"248\" x=\"0\" y=\"168\" /><text fill=\"#253494\" style=\"font-family:Lucida Grande; font-size:14pt; font-weight:normal\" x=\"0\" y=\"182\">gggggggggggggggggggg</text><rect fill=\"#fe9929\" fill-opacity=\"0.25\" height=\"14\" stroke=\"#fe9929\" stroke-width=\"1\" width=\"248\" x=\"0\" y=\"196\" /><text fill=\"#253494\" style=\"font-family:Lucida Grande; font-size:14pt; font-weight:normal\" x=\"0\" y=\"210\">hhhhhhhhhhhhhhhhhhhh</text><rect fill=\"#fe9929\" fill-opacity=\"0.25\" height=\"14\" stroke=\"#fe9929\" stroke-width=\"1\" width=\"158\" x=\"0\" y=\"224\" /><text fill=\"#253494\" style=\"font-family:Lucida Grande; font-size:14pt; font-weight:normal\" x=\"0\" y=\"238\">iiiiiiiiiiiiiiiiiiii</text><rect fill=\"#fe9929\" fill-opacity=\"0.25\" height=\"14\" stroke=\"#fe9929\" stroke-width=\"1\" width=\"158\" x=\"0\" y=\"252\" /><text fill=\"#253494\" style=\"font-family:Lucida Grande; font-size:14pt; font-weight:normal\" x=\"0\" y=\"266\">jjjjjjjjjjjjjjjjjjjj</text><rect fill=\"#fe9929\" fill-opacity=\"0.25\" height=\"14\" stroke=\"#fe9929\" stroke-width=\"1\" width=\"248\" x=\"0\" y=\"280\" /><text fill=\"#253494\" style=\"font-family:Lucida Grande; font-size:14pt; font-weight:normal\" x=\"0\" y=\"294\">kkkkkkkkkkkkkkkkkkkk</text><rect fill=\"#fe9929\" fill-opacity=\"0.25\" height=\"14\" stroke=\"#fe9929\" stroke-width=\"1\" width=\"158\" x=\"0\" y=\"308\" /><text fill=\"#253494\" style=\"font-family:Lucida Grande; font-size:14pt; font-weight:normal\" x=\"0\" y=\"322\">llllllllllllllllllll</text><rect fill=\"#fe9929\" fill-opacity=\"0.25\" height=\"14\" stroke=\"#fe9929\" stroke-width=\"1\" width=\"351\" x=\"0\" y=\"336\" /><text fill=\"#253494\" style=\"font-family:Lucida Grande; font-size:14pt; font-weight:normal\" x=\"0\" y=\"350\">mmmmmmmmmmmmmmmmmmmm</text><rect fill=\"#fe9929\" fill-opacity=\"0.25\" height=\"14\" stroke=\"#fe9929\" stroke-width=\"1\" width=\"248\" x=\"0\" y=\"364\" /><text fill=\"#253494\" style=\"font-family:Lucida Grande; font-size:14pt; font-weight:normal\" x=\"0\" y=\"378\">nnnnnnnnnnnnnnnnnnnn</text><rect fill=\"#fe9929\" fill-opacity=\"0.25\" height=\"14\" stroke=\"#fe9929\" stroke-width=\"1\" width=\"248\" x=\"0\" y=\"392\" /><text fill=\"#253494\" style=\"font-family:Lucida Grande; font-size:14pt; font-weight:normal\" x=\"0\" y=\"406\">oooooooooooooooooooo</text><rect fill=\"#fe9929\" fill-opacity=\"0.25\" height=\"14\" stroke=\"#fe9929\" stroke-width=\"1\" width=\"248\" x=\"0\" y=\"420\" /><text fill=\"#253494\" style=\"font-family:Lucida Grande; font-size:14pt; font-weight:normal\" x=\"0\" y=\"434\">pppppppppppppppppppp</text><rect fill=\"#fe9929\" fill-opacity=\"0.25\" height=\"14\" stroke=\"#fe9929\" stroke-width=\"1\" width=\"248\" x=\"0\" y=\"448\" /><text fill=\"#253494\" style=\"font-family:Lucida Grande; font-size:14pt; font-weight:normal\" x=\"0\" y=\"462\">qqqqqqqqqqqqqqqqqqqq</text><rect fill=\"#fe9929\" fill-opacity=\"0.25\" height=\"14\" stroke=\"#fe9929\" stroke-width=\"1\" width=\"158\" x=\"0\" y=\"476\" /><text fill=\"#253494\" style=\"font-family:Lucida Grande; font-size:14pt; font-weight:normal\" x=\"0\" y=\"490\">rrrrrrrrrrrrrrrrrrrr</text><rect fill=\"#fe9929\" fill-opacity=\"0.25\" height=\"14\" stroke=\"#fe9929\" stroke-width=\"1\" width=\"248\" x=\"0\" y=\"504\" /><text fill=\"#253494\" style=\"font-family:Lucida Grande; font-size:14pt; font-weight:normal\" x=\"0\" y=\"518\">ssssssssssssssssssss</text><rect fill=\"#fe9929\" fill-opacity=\"0.25\" height=\"14\" stroke=\"#fe9929\" stroke-width=\"1\" width=\"158\" x=\"0\" y=\"532\" /><text fill=\"#253494\" style=\"font-family:Lucida Grande; font-size:14pt; font-weight:normal\" x=\"0\" y=\"546\">tttttttttttttttttttt</text><rect fill=\"#fe9929\" fill-opacity=\"0.25\" height=\"14\" stroke=\"#fe9929\" stroke-width=\"1\" width=\"248\" x=\"0\" y=\"560\" /><text fill=\"#253494\" style=\"font-family:Lucida Grande; font-size:14pt; font-weight:normal\" x=\"0\" y=\"574\">uuuuuuuuuuuuuuuuuuuu</text><rect fill=\"#fe9929\" fill-opacity=\"0.25\" height=\"14\" stroke=\"#fe9929\" stroke-width=\"1\" width=\"248\" x=\"0\" y=\"588\" /><text fill=\"#253494\" style=\"font-family:Lucida Grande; font-size:14pt; font-weight:normal\" x=\"0\" y=\"602\">vvvvvvvvvvvvvvvvvvvv</text><rect fill=\"#fe9929\" fill-opacity=\"0.25\" height=\"14\" stroke=\"#fe9929\" stroke-width=\"1\" width=\"351\" x=\"0\" y=\"616\" /><text fill=\"#253494\" style=\"font-family:Lucida Grande; font-size:14pt; font-weight:normal\" x=\"0\" y=\"630\">wwwwwwwwwwwwwwwwwwww</text><rect fill=\"#fe9929\" fill-opacity=\"0.25\" height=\"14\" stroke=\"#fe9929\" stroke-width=\"1\" width=\"248\" x=\"0\" y=\"644\" /><text fill=\"#253494\" style=\"font-family:Lucida Grande; font-size:14pt; font-weight:normal\" x=\"0\" y=\"658\">xxxxxxxxxxxxxxxxxxxx</text><rect fill=\"#fe9929\" fill-opacity=\"0.25\" height=\"14\" stroke=\"#fe9929\" stroke-width=\"1\" width=\"248\" x=\"0\" y=\"672\" /><text fill=\"#253494\" style=\"font-family:Lucida Grande; font-size:14pt; font-weight:normal\" x=\"0\" y=\"686\">yyyyyyyyyyyyyyyyyyyy</text><rect fill=\"#fe9929\" fill-opacity=\"0.25\" height=\"14\" stroke=\"#fe9929\" stroke-width=\"1\" width=\"248\" x=\"0\" y=\"700\" /><text fill=\"#253494\" style=\"font-family:Lucida Grande; font-size:14pt; font-weight:normal\" x=\"0\" y=\"714\">zzzzzzzzzzzzzzzzzzzz</text></svg>"
      ],
      "text/plain": [
       "<svgwrite.drawing.Drawing at 0x1c6936cf550>"
      ]
     },
     "execution_count": 7,
     "metadata": {},
     "output_type": "execute_result"
    }
   ],
   "source": [
    "lines = [\n",
    "    \"a\" * R,\n",
    "    \"b\" * R,\n",
    "    \"c\" * R,\n",
    "    \"d\" * R,\n",
    "    \"e\" * R,\n",
    "    \"f\" * R,\n",
    "    \"g\" * R,\n",
    "    \"h\" * R,\n",
    "    \"i\" * R,\n",
    "    \"j\" * R,\n",
    "    \"k\" * R,\n",
    "    \"l\" * R,\n",
    "    \"m\" * R,\n",
    "    \"n\" * R,\n",
    "    \"o\" * R,\n",
    "    \"p\" * R,\n",
    "    \"q\" * R,\n",
    "    \"r\" * R,\n",
    "    \"s\" * R,\n",
    "    \"t\" * R,\n",
    "    \"u\" * R,\n",
    "    \"v\" * R,\n",
    "    \"w\" * R,\n",
    "    \"x\" * R,\n",
    "    \"y\" * R,\n",
    "    \"z\" * R,\n",
    "]\n",
    "\n",
    "draw_lines(lines, model)"
   ]
  },
  {
   "cell_type": "code",
   "execution_count": 8,
   "id": "b712ea7c",
   "metadata": {},
   "outputs": [
    {
     "data": {
      "image/svg+xml": [
       "<svg baseProfile=\"full\" height=\"280\" version=\"1.1\" width=\"800\" xmlns=\"http://www.w3.org/2000/svg\" xmlns:ev=\"http://www.w3.org/2001/xml-events\" xmlns:xlink=\"http://www.w3.org/1999/xlink\"><defs /><rect fill=\"#fe9929\" fill-opacity=\"0.25\" height=\"14\" stroke=\"#fe9929\" stroke-width=\"1\" width=\"248\" x=\"0\" y=\"0\" /><text fill=\"#253494\" style=\"font-family:Lucida Grande; font-size:14pt; font-weight:normal\" x=\"0\" y=\"14\">00000000000000000000</text><rect fill=\"#fe9929\" fill-opacity=\"0.25\" height=\"14\" stroke=\"#fe9929\" stroke-width=\"1\" width=\"248\" x=\"0\" y=\"28\" /><text fill=\"#253494\" style=\"font-family:Lucida Grande; font-size:14pt; font-weight:normal\" x=\"0\" y=\"42\">11111111111111111111</text><rect fill=\"#fe9929\" fill-opacity=\"0.25\" height=\"14\" stroke=\"#fe9929\" stroke-width=\"1\" width=\"248\" x=\"0\" y=\"56\" /><text fill=\"#253494\" style=\"font-family:Lucida Grande; font-size:14pt; font-weight:normal\" x=\"0\" y=\"70\">22222222222222222222</text><rect fill=\"#fe9929\" fill-opacity=\"0.25\" height=\"14\" stroke=\"#fe9929\" stroke-width=\"1\" width=\"248\" x=\"0\" y=\"84\" /><text fill=\"#253494\" style=\"font-family:Lucida Grande; font-size:14pt; font-weight:normal\" x=\"0\" y=\"98\">33333333333333333333</text><rect fill=\"#fe9929\" fill-opacity=\"0.25\" height=\"14\" stroke=\"#fe9929\" stroke-width=\"1\" width=\"248\" x=\"0\" y=\"112\" /><text fill=\"#253494\" style=\"font-family:Lucida Grande; font-size:14pt; font-weight:normal\" x=\"0\" y=\"126\">44444444444444444444</text><rect fill=\"#fe9929\" fill-opacity=\"0.25\" height=\"14\" stroke=\"#fe9929\" stroke-width=\"1\" width=\"248\" x=\"0\" y=\"140\" /><text fill=\"#253494\" style=\"font-family:Lucida Grande; font-size:14pt; font-weight:normal\" x=\"0\" y=\"154\">55555555555555555555</text><rect fill=\"#fe9929\" fill-opacity=\"0.25\" height=\"14\" stroke=\"#fe9929\" stroke-width=\"1\" width=\"248\" x=\"0\" y=\"168\" /><text fill=\"#253494\" style=\"font-family:Lucida Grande; font-size:14pt; font-weight:normal\" x=\"0\" y=\"182\">66666666666666666666</text><rect fill=\"#fe9929\" fill-opacity=\"0.25\" height=\"14\" stroke=\"#fe9929\" stroke-width=\"1\" width=\"248\" x=\"0\" y=\"196\" /><text fill=\"#253494\" style=\"font-family:Lucida Grande; font-size:14pt; font-weight:normal\" x=\"0\" y=\"210\">77777777777777777777</text><rect fill=\"#fe9929\" fill-opacity=\"0.25\" height=\"14\" stroke=\"#fe9929\" stroke-width=\"1\" width=\"248\" x=\"0\" y=\"224\" /><text fill=\"#253494\" style=\"font-family:Lucida Grande; font-size:14pt; font-weight:normal\" x=\"0\" y=\"238\">88888888888888888888</text><rect fill=\"#fe9929\" fill-opacity=\"0.25\" height=\"14\" stroke=\"#fe9929\" stroke-width=\"1\" width=\"248\" x=\"0\" y=\"252\" /><text fill=\"#253494\" style=\"font-family:Lucida Grande; font-size:14pt; font-weight:normal\" x=\"0\" y=\"266\">99999999999999999999</text></svg>"
      ],
      "text/plain": [
       "<svgwrite.drawing.Drawing at 0x1c6936c5370>"
      ]
     },
     "execution_count": 8,
     "metadata": {},
     "output_type": "execute_result"
    }
   ],
   "source": [
    "lines = [\n",
    "    \"0\" * R,\n",
    "    \"1\" * R,\n",
    "    \"2\" * R,\n",
    "    \"3\" * R,\n",
    "    \"4\" * R,\n",
    "    \"5\" * R,\n",
    "    \"6\" * R,\n",
    "    \"7\" * R,\n",
    "    \"8\" * R,\n",
    "    \"9\" * R,\n",
    "]\n",
    "\n",
    "draw_lines(lines, model)"
   ]
  },
  {
   "cell_type": "code",
   "execution_count": 9,
   "id": "53fda422",
   "metadata": {},
   "outputs": [
    {
     "data": {
      "image/svg+xml": [
       "<svg baseProfile=\"full\" height=\"504\" version=\"1.1\" width=\"800\" xmlns=\"http://www.w3.org/2000/svg\" xmlns:ev=\"http://www.w3.org/2001/xml-events\" xmlns:xlink=\"http://www.w3.org/1999/xlink\"><defs /><rect fill=\"#fe9929\" fill-opacity=\"0.25\" height=\"14\" stroke=\"#fe9929\" stroke-width=\"1\" width=\"158\" x=\"0\" y=\"0\" /><text fill=\"#253494\" style=\"font-family:Lucida Grande; font-size:14pt; font-weight:normal\" x=\"0\" y=\"14\">....................</text><rect fill=\"#fe9929\" fill-opacity=\"0.25\" height=\"14\" stroke=\"#fe9929\" stroke-width=\"1\" width=\"158\" x=\"0\" y=\"28\" /><text fill=\"#253494\" style=\"font-family:Lucida Grande; font-size:14pt; font-weight:normal\" x=\"0\" y=\"42\">,,,,,,,,,,,,,,,,,,,,</text><rect fill=\"#fe9929\" fill-opacity=\"0.25\" height=\"14\" stroke=\"#fe9929\" stroke-width=\"1\" width=\"248\" x=\"0\" y=\"56\" /><text fill=\"#253494\" style=\"font-family:Lucida Grande; font-size:14pt; font-weight:normal\" x=\"0\" y=\"70\">????????????????????</text><rect fill=\"#fe9929\" fill-opacity=\"0.25\" height=\"14\" stroke=\"#fe9929\" stroke-width=\"1\" width=\"158\" x=\"0\" y=\"84\" /><text fill=\"#253494\" style=\"font-family:Lucida Grande; font-size:14pt; font-weight:normal\" x=\"0\" y=\"98\">::::::::::::::::::::</text><rect fill=\"#fe9929\" fill-opacity=\"0.25\" height=\"14\" stroke=\"#fe9929\" stroke-width=\"1\" width=\"158\" x=\"0\" y=\"112\" /><text fill=\"#253494\" style=\"font-family:Lucida Grande; font-size:14pt; font-weight:normal\" x=\"0\" y=\"126\">;;;;;;;;;;;;;;;;;;;;</text><rect fill=\"#fe9929\" fill-opacity=\"0.25\" height=\"14\" stroke=\"#fe9929\" stroke-width=\"1\" width=\"158\" x=\"0\" y=\"140\" /><text fill=\"#253494\" style=\"font-family:Lucida Grande; font-size:14pt; font-weight:normal\" x=\"0\" y=\"154\">````````````````````</text><rect fill=\"#fe9929\" fill-opacity=\"0.25\" height=\"14\" stroke=\"#fe9929\" stroke-width=\"1\" width=\"158\" x=\"0\" y=\"168\" /><text fill=\"#253494\" style=\"font-family:Lucida Grande; font-size:14pt; font-weight:normal\" x=\"0\" y=\"182\">''''''''''''''''''''</text><rect fill=\"#fe9929\" fill-opacity=\"0.25\" height=\"14\" stroke=\"#fe9929\" stroke-width=\"1\" width=\"158\" x=\"0\" y=\"196\" /><text fill=\"#253494\" style=\"font-family:Lucida Grande; font-size:14pt; font-weight:normal\" x=\"0\" y=\"210\">\"\"\"\"\"\"\"\"\"\"\"\"\"\"\"\"\"\"\"\"</text><rect fill=\"#fe9929\" fill-opacity=\"0.25\" height=\"14\" stroke=\"#fe9929\" stroke-width=\"1\" width=\"158\" x=\"0\" y=\"224\" /><text fill=\"#253494\" style=\"font-family:Lucida Grande; font-size:14pt; font-weight:normal\" x=\"0\" y=\"238\">////////////////////</text><rect fill=\"#fe9929\" fill-opacity=\"0.25\" height=\"14\" stroke=\"#fe9929\" stroke-width=\"1\" width=\"158\" x=\"0\" y=\"252\" /><text fill=\"#253494\" style=\"font-family:Lucida Grande; font-size:14pt; font-weight:normal\" x=\"0\" y=\"266\">\\\\\\\\\\\\\\\\\\\\\\\\\\\\\\\\\\\\\\\\</text><rect fill=\"#fe9929\" fill-opacity=\"0.25\" height=\"14\" stroke=\"#fe9929\" stroke-width=\"1\" width=\"158\" x=\"0\" y=\"280\" /><text fill=\"#253494\" style=\"font-family:Lucida Grande; font-size:14pt; font-weight:normal\" x=\"0\" y=\"294\">||||||||||||||||||||</text><rect fill=\"#fe9929\" fill-opacity=\"0.25\" height=\"14\" stroke=\"#fe9929\" stroke-width=\"1\" width=\"300\" x=\"0\" y=\"308\" /><text fill=\"#253494\" style=\"font-family:Lucida Grande; font-size:14pt; font-weight:normal\" x=\"0\" y=\"322\">&lt;&lt;&lt;&lt;&lt;&lt;&lt;&lt;&lt;&lt;&lt;&lt;&lt;&lt;&lt;&lt;&lt;&lt;&lt;&lt;</text><rect fill=\"#fe9929\" fill-opacity=\"0.25\" height=\"14\" stroke=\"#fe9929\" stroke-width=\"1\" width=\"300\" x=\"0\" y=\"336\" /><text fill=\"#253494\" style=\"font-family:Lucida Grande; font-size:14pt; font-weight:normal\" x=\"0\" y=\"350\">&gt;&gt;&gt;&gt;&gt;&gt;&gt;&gt;&gt;&gt;&gt;&gt;&gt;&gt;&gt;&gt;&gt;&gt;&gt;&gt;</text><rect fill=\"#fe9929\" fill-opacity=\"0.25\" height=\"14\" stroke=\"#fe9929\" stroke-width=\"1\" width=\"158\" x=\"0\" y=\"364\" /><text fill=\"#253494\" style=\"font-family:Lucida Grande; font-size:14pt; font-weight:normal\" x=\"0\" y=\"378\">]]]]]]]]]]]]]]]]]]]]</text><rect fill=\"#fe9929\" fill-opacity=\"0.25\" height=\"14\" stroke=\"#fe9929\" stroke-width=\"1\" width=\"158\" x=\"0\" y=\"392\" /><text fill=\"#253494\" style=\"font-family:Lucida Grande; font-size:14pt; font-weight:normal\" x=\"0\" y=\"406\">[[[[[[[[[[[[[[[[[[[[</text><rect fill=\"#fe9929\" fill-opacity=\"0.25\" height=\"14\" stroke=\"#fe9929\" stroke-width=\"1\" width=\"248\" x=\"0\" y=\"420\" /><text fill=\"#253494\" style=\"font-family:Lucida Grande; font-size:14pt; font-weight:normal\" x=\"0\" y=\"434\">{{{{{{{{{{{{{{{{{{{{</text><rect fill=\"#fe9929\" fill-opacity=\"0.25\" height=\"14\" stroke=\"#fe9929\" stroke-width=\"1\" width=\"248\" x=\"0\" y=\"448\" /><text fill=\"#253494\" style=\"font-family:Lucida Grande; font-size:14pt; font-weight:normal\" x=\"0\" y=\"462\">}}}}}}}}}}}}}}}}}}}}</text><rect fill=\"#fe9929\" fill-opacity=\"0.25\" height=\"14\" stroke=\"#fe9929\" stroke-width=\"1\" width=\"300\" x=\"0\" y=\"476\" /><text fill=\"#253494\" style=\"font-family:Lucida Grande; font-size:14pt; font-weight:normal\" x=\"0\" y=\"490\">~~~~~~~~~~~~~~~~~~~~</text></svg>"
      ],
      "text/plain": [
       "<svgwrite.drawing.Drawing at 0x1c693616cd0>"
      ]
     },
     "execution_count": 9,
     "metadata": {},
     "output_type": "execute_result"
    }
   ],
   "source": [
    "lines = [\n",
    "    \".\" * R,\n",
    "    \",\" * R,\n",
    "    \"?\" * R,\n",
    "    \":\" * R,\n",
    "    \";\" * R,\n",
    "    \"`\" * R,\n",
    "    \"'\" * R,\n",
    "    \"\\\"\" * R,\n",
    "    \"/\" * R,\n",
    "    \"\\\\\" * R,\n",
    "    \"|\" * R,\n",
    "    \"<\" * R,\n",
    "    \">\" * R,\n",
    "    \"]\" * R,\n",
    "    \"[\" * R,\n",
    "    \"{\" * R,\n",
    "    \"}\" * R,\n",
    "    \"~\" * R,\n",
    "]\n",
    "\n",
    "draw_lines(lines, model)"
   ]
  },
  {
   "cell_type": "code",
   "execution_count": 10,
   "id": "8d4f6ea4",
   "metadata": {},
   "outputs": [
    {
     "data": {
      "image/svg+xml": [
       "<svg baseProfile=\"full\" height=\"392\" version=\"1.1\" width=\"800\" xmlns=\"http://www.w3.org/2000/svg\" xmlns:ev=\"http://www.w3.org/2001/xml-events\" xmlns:xlink=\"http://www.w3.org/1999/xlink\"><defs /><rect fill=\"#fe9929\" fill-opacity=\"0.25\" height=\"14\" stroke=\"#fe9929\" stroke-width=\"1\" width=\"158\" x=\"0\" y=\"0\" /><text fill=\"#253494\" style=\"font-family:Lucida Grande; font-size:14pt; font-weight:normal\" x=\"0\" y=\"14\">!!!!!!!!!!!!!!!!!!!!</text><rect fill=\"#fe9929\" fill-opacity=\"0.25\" height=\"14\" stroke=\"#fe9929\" stroke-width=\"1\" width=\"447\" x=\"0\" y=\"28\" /><text fill=\"#253494\" style=\"font-family:Lucida Grande; font-size:14pt; font-weight:normal\" x=\"0\" y=\"42\">@@@@@@@@@@@@@@@@@@@@</text><rect fill=\"#fe9929\" fill-opacity=\"0.25\" height=\"14\" stroke=\"#fe9929\" stroke-width=\"1\" width=\"300\" x=\"0\" y=\"56\" /><text fill=\"#253494\" style=\"font-family:Lucida Grande; font-size:14pt; font-weight:normal\" x=\"0\" y=\"70\">####################</text><rect fill=\"#fe9929\" fill-opacity=\"0.25\" height=\"14\" stroke=\"#fe9929\" stroke-width=\"1\" width=\"248\" x=\"0\" y=\"84\" /><text fill=\"#253494\" style=\"font-family:Lucida Grande; font-size:14pt; font-weight:normal\" x=\"0\" y=\"98\">$$$$$$$$$$$$$$$$$$$$</text><rect fill=\"#fe9929\" fill-opacity=\"0.25\" height=\"14\" stroke=\"#fe9929\" stroke-width=\"1\" width=\"351\" x=\"0\" y=\"112\" /><text fill=\"#253494\" style=\"font-family:Lucida Grande; font-size:14pt; font-weight:normal\" x=\"0\" y=\"126\">%%%%%%%%%%%%%%%%%%%%</text><rect fill=\"#fe9929\" fill-opacity=\"0.25\" height=\"14\" stroke=\"#fe9929\" stroke-width=\"1\" width=\"300\" x=\"0\" y=\"140\" /><text fill=\"#253494\" style=\"font-family:Lucida Grande; font-size:14pt; font-weight:normal\" x=\"0\" y=\"154\">^^^^^^^^^^^^^^^^^^^^</text><rect fill=\"#fe9929\" fill-opacity=\"0.25\" height=\"14\" stroke=\"#fe9929\" stroke-width=\"1\" width=\"351\" x=\"0\" y=\"168\" /><text fill=\"#253494\" style=\"font-family:Lucida Grande; font-size:14pt; font-weight:normal\" x=\"0\" y=\"182\">&amp;&amp;&amp;&amp;&amp;&amp;&amp;&amp;&amp;&amp;&amp;&amp;&amp;&amp;&amp;&amp;&amp;&amp;&amp;&amp;</text><rect fill=\"#fe9929\" fill-opacity=\"0.25\" height=\"14\" stroke=\"#fe9929\" stroke-width=\"1\" width=\"248\" x=\"0\" y=\"196\" /><text fill=\"#253494\" style=\"font-family:Lucida Grande; font-size:14pt; font-weight:normal\" x=\"0\" y=\"210\">********************</text><rect fill=\"#fe9929\" fill-opacity=\"0.25\" height=\"14\" stroke=\"#fe9929\" stroke-width=\"1\" width=\"158\" x=\"0\" y=\"224\" /><text fill=\"#253494\" style=\"font-family:Lucida Grande; font-size:14pt; font-weight:normal\" x=\"0\" y=\"238\">((((((((((((((((((((</text><rect fill=\"#fe9929\" fill-opacity=\"0.25\" height=\"14\" stroke=\"#fe9929\" stroke-width=\"1\" width=\"158\" x=\"0\" y=\"252\" /><text fill=\"#253494\" style=\"font-family:Lucida Grande; font-size:14pt; font-weight:normal\" x=\"0\" y=\"266\">))))))))))))))))))))</text><rect fill=\"#fe9929\" fill-opacity=\"0.25\" height=\"14\" stroke=\"#fe9929\" stroke-width=\"1\" width=\"248\" x=\"0\" y=\"280\" /><text fill=\"#253494\" style=\"font-family:Lucida Grande; font-size:14pt; font-weight:normal\" x=\"0\" y=\"294\">____________________</text><rect fill=\"#fe9929\" fill-opacity=\"0.25\" height=\"14\" stroke=\"#fe9929\" stroke-width=\"1\" width=\"158\" x=\"0\" y=\"308\" /><text fill=\"#253494\" style=\"font-family:Lucida Grande; font-size:14pt; font-weight:normal\" x=\"0\" y=\"322\">--------------------</text><rect fill=\"#fe9929\" fill-opacity=\"0.25\" height=\"14\" stroke=\"#fe9929\" stroke-width=\"1\" width=\"300\" x=\"0\" y=\"336\" /><text fill=\"#253494\" style=\"font-family:Lucida Grande; font-size:14pt; font-weight:normal\" x=\"0\" y=\"350\">====================</text><rect fill=\"#fe9929\" fill-opacity=\"0.25\" height=\"14\" stroke=\"#fe9929\" stroke-width=\"1\" width=\"300\" x=\"0\" y=\"364\" /><text fill=\"#253494\" style=\"font-family:Lucida Grande; font-size:14pt; font-weight:normal\" x=\"0\" y=\"378\">++++++++++++++++++++</text></svg>"
      ],
      "text/plain": [
       "<svgwrite.drawing.Drawing at 0x1c693616910>"
      ]
     },
     "execution_count": 10,
     "metadata": {},
     "output_type": "execute_result"
    }
   ],
   "source": [
    "lines = [\n",
    "    \"!\" * R,\n",
    "    \"@\" * R,\n",
    "    \"#\" * R,\n",
    "    \"$\" * R,\n",
    "    \"%\" * R,\n",
    "    \"^\" * R,\n",
    "    \"&\" * R,\n",
    "    \"*\" * R,\n",
    "    \"(\" * R,\n",
    "    \")\" * R,\n",
    "    \"_\" * R,\n",
    "    \"-\" * R,\n",
    "    \"=\" * R,\n",
    "    \"+\" * R,\n",
    "]\n",
    "\n",
    "draw_lines(lines, model)"
   ]
  },
  {
   "cell_type": "markdown",
   "id": "9fd1c4a7",
   "metadata": {},
   "source": [
    "## Интерактивный пример"
   ]
  },
  {
   "cell_type": "code",
   "execution_count": 11,
   "id": "35a9d6a9",
   "metadata": {},
   "outputs": [
    {
     "data": {
      "application/vnd.jupyter.widget-view+json": {
       "model_id": "83b6af6e7a55466d9688be9289b063b9",
       "version_major": 2,
       "version_minor": 0
      },
      "text/plain": [
       "interactive(children=(Text(value='', description='Input:', placeholder='Sample text', style=TextStyle(descript…"
      ]
     },
     "metadata": {},
     "output_type": "display_data"
    }
   ],
   "source": [
    "demo_panel = DemoPanel(model)\n",
    "demo_panel.draw()"
   ]
  }
 ],
 "metadata": {
  "kernelspec": {
   "display_name": "Python 3 (ipykernel)",
   "language": "python",
   "name": "python3"
  },
  "language_info": {
   "codemirror_mode": {
    "name": "ipython",
    "version": 3
   },
   "file_extension": ".py",
   "mimetype": "text/x-python",
   "name": "python",
   "nbconvert_exporter": "python",
   "pygments_lexer": "ipython3",
   "version": "3.8.13"
  }
 },
 "nbformat": 4,
 "nbformat_minor": 5
}
